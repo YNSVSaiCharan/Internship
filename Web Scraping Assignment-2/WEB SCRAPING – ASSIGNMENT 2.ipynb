{
 "cells": [
  {
   "cell_type": "code",
   "execution_count": 1,
   "id": "5d48fb38",
   "metadata": {},
   "outputs": [
    {
     "name": "stdout",
     "output_type": "stream",
     "text": [
      "Collecting selenium\n",
      "  Downloading selenium-4.1.5-py3-none-any.whl (979 kB)\n",
      "Requirement already satisfied: urllib3[secure,socks]~=1.26 in c:\\programdata\\anaconda3\\lib\\site-packages (from selenium) (1.26.4)\n",
      "Collecting trio~=0.17\n",
      "  Downloading trio-0.20.0-py3-none-any.whl (359 kB)\n",
      "Collecting trio-websocket~=0.9\n",
      "  Downloading trio_websocket-0.9.2-py3-none-any.whl (16 kB)\n",
      "Requirement already satisfied: attrs>=19.2.0 in c:\\programdata\\anaconda3\\lib\\site-packages (from trio~=0.17->selenium) (20.3.0)\n",
      "Requirement already satisfied: cffi>=1.14 in c:\\programdata\\anaconda3\\lib\\site-packages (from trio~=0.17->selenium) (1.14.5)\n",
      "Requirement already satisfied: sniffio in c:\\programdata\\anaconda3\\lib\\site-packages (from trio~=0.17->selenium) (1.2.0)\n",
      "Requirement already satisfied: async-generator>=1.9 in c:\\programdata\\anaconda3\\lib\\site-packages (from trio~=0.17->selenium) (1.10)\n",
      "Collecting outcome\n",
      "  Downloading outcome-1.1.0-py2.py3-none-any.whl (9.7 kB)\n",
      "Requirement already satisfied: idna in c:\\programdata\\anaconda3\\lib\\site-packages (from trio~=0.17->selenium) (2.10)\n",
      "Requirement already satisfied: sortedcontainers in c:\\programdata\\anaconda3\\lib\\site-packages (from trio~=0.17->selenium) (2.3.0)\n",
      "Requirement already satisfied: pycparser in c:\\programdata\\anaconda3\\lib\\site-packages (from cffi>=1.14->trio~=0.17->selenium) (2.20)\n",
      "Collecting wsproto>=0.14\n",
      "  Downloading wsproto-1.1.0-py3-none-any.whl (24 kB)\n",
      "Requirement already satisfied: pyOpenSSL>=0.14 in c:\\programdata\\anaconda3\\lib\\site-packages (from urllib3[secure,socks]~=1.26->selenium) (20.0.1)\n",
      "Requirement already satisfied: cryptography>=1.3.4 in c:\\programdata\\anaconda3\\lib\\site-packages (from urllib3[secure,socks]~=1.26->selenium) (3.4.7)\n",
      "Requirement already satisfied: certifi in c:\\programdata\\anaconda3\\lib\\site-packages (from urllib3[secure,socks]~=1.26->selenium) (2020.12.5)\n",
      "Requirement already satisfied: PySocks!=1.5.7,<2.0,>=1.5.6 in c:\\programdata\\anaconda3\\lib\\site-packages (from urllib3[secure,socks]~=1.26->selenium) (1.7.1)\n",
      "Requirement already satisfied: six>=1.5.2 in c:\\programdata\\anaconda3\\lib\\site-packages (from pyOpenSSL>=0.14->urllib3[secure,socks]~=1.26->selenium) (1.15.0)\n",
      "Collecting h11<1,>=0.9.0\n",
      "  Downloading h11-0.13.0-py3-none-any.whl (58 kB)\n",
      "Installing collected packages: outcome, h11, wsproto, trio, trio-websocket, selenium\n",
      "Successfully installed h11-0.13.0 outcome-1.1.0 selenium-4.1.5 trio-0.20.0 trio-websocket-0.9.2 wsproto-1.1.0\n"
     ]
    }
   ],
   "source": [
    "!pip install selenium"
   ]
  },
  {
   "cell_type": "code",
   "execution_count": 1,
   "id": "9964b35c",
   "metadata": {},
   "outputs": [],
   "source": [
    "import selenium\n",
    "import pandas as pd\n",
    "from selenium import webdriver\n",
    "import warnings\n",
    "warnings.filterwarnings('ignore')\n",
    "import time"
   ]
  },
  {
   "cell_type": "markdown",
   "id": "e5bd6654",
   "metadata": {},
   "source": [
    "# Question-2"
   ]
  },
  {
   "cell_type": "code",
   "execution_count": 112,
   "id": "811dd090",
   "metadata": {},
   "outputs": [],
   "source": [
    "driver=webdriver.Chrome(r\"C:\\webdriver\\chromedriver.exe\")\n"
   ]
  },
  {
   "cell_type": "code",
   "execution_count": 6,
   "id": "c60e960e",
   "metadata": {},
   "outputs": [],
   "source": [
    "driver.close()"
   ]
  },
  {
   "cell_type": "code",
   "execution_count": 113,
   "id": "eac3af0b",
   "metadata": {},
   "outputs": [],
   "source": [
    "driver.get(\"http://www.naukri.com/\")"
   ]
  },
  {
   "cell_type": "code",
   "execution_count": 114,
   "id": "21627123",
   "metadata": {},
   "outputs": [],
   "source": [
    "search_field_designtion=driver.find_element_by_class_name(\"suggestor-input\")"
   ]
  },
  {
   "cell_type": "code",
   "execution_count": 115,
   "id": "ba3b3b4c",
   "metadata": {},
   "outputs": [],
   "source": [
    "search_field_designtion.send_keys(\"Data Scientist\")"
   ]
  },
  {
   "cell_type": "code",
   "execution_count": 116,
   "id": "3f290ce7",
   "metadata": {},
   "outputs": [],
   "source": [
    "search_field_loc=driver.find_element_by_xpath('/html/body/div/div[2]/div[3]/div/div/div[3]/div/div/div/input')"
   ]
  },
  {
   "cell_type": "code",
   "execution_count": 117,
   "id": "f605b91e",
   "metadata": {},
   "outputs": [],
   "source": [
    "search_field_loc.send_keys('Bangalore')"
   ]
  },
  {
   "cell_type": "code",
   "execution_count": 118,
   "id": "e72167d8",
   "metadata": {},
   "outputs": [],
   "source": [
    "search_button=driver.find_element_by_xpath('/html/body/div/div[2]/div[3]/div/div/div[6]')"
   ]
  },
  {
   "cell_type": "code",
   "execution_count": 119,
   "id": "2c78150d",
   "metadata": {},
   "outputs": [],
   "source": [
    "search_button.click()"
   ]
  },
  {
   "cell_type": "code",
   "execution_count": 120,
   "id": "d76ec017",
   "metadata": {},
   "outputs": [],
   "source": [
    "job_titles=[]\n",
    "   \n",
    "\n",
    "experience_list=[]"
   ]
  },
  {
   "cell_type": "code",
   "execution_count": 121,
   "id": "23f4b6b8",
   "metadata": {},
   "outputs": [],
   "source": [
    "titles_tags=driver.find_elements_by_xpath(\"//a[@class='title fw500 ellipsis']\")"
   ]
  },
  {
   "cell_type": "code",
   "execution_count": 122,
   "id": "da4d2385",
   "metadata": {},
   "outputs": [],
   "source": [
    "for i in titles_tags:\n",
    "    title=i.text\n",
    "    job_titles.append(title)"
   ]
  },
  {
   "cell_type": "code",
   "execution_count": 123,
   "id": "553754f2",
   "metadata": {},
   "outputs": [
    {
     "data": {
      "text/plain": [
       "[<selenium.webdriver.remote.webelement.WebElement (session=\"131b558e1c16bac55fc5715fae4a1bb0\", element=\"2f4d778f-5da9-4b47-bb5b-d6414207a2bc\")>,\n",
       " <selenium.webdriver.remote.webelement.WebElement (session=\"131b558e1c16bac55fc5715fae4a1bb0\", element=\"ef3fa304-bf16-432a-9026-a02479c67c5a\")>,\n",
       " <selenium.webdriver.remote.webelement.WebElement (session=\"131b558e1c16bac55fc5715fae4a1bb0\", element=\"ce859346-871d-4655-8afc-25aa9ea5ca64\")>,\n",
       " <selenium.webdriver.remote.webelement.WebElement (session=\"131b558e1c16bac55fc5715fae4a1bb0\", element=\"92408798-4941-45d2-a7f3-c0c9658b953e\")>,\n",
       " <selenium.webdriver.remote.webelement.WebElement (session=\"131b558e1c16bac55fc5715fae4a1bb0\", element=\"b94d0348-7f63-4ed3-a0ef-99bf72622e0a\")>,\n",
       " <selenium.webdriver.remote.webelement.WebElement (session=\"131b558e1c16bac55fc5715fae4a1bb0\", element=\"0f3082b3-991a-4725-b1d4-aeb44280c363\")>,\n",
       " <selenium.webdriver.remote.webelement.WebElement (session=\"131b558e1c16bac55fc5715fae4a1bb0\", element=\"67d82738-756a-452c-bb4e-3edbeeaa71f8\")>,\n",
       " <selenium.webdriver.remote.webelement.WebElement (session=\"131b558e1c16bac55fc5715fae4a1bb0\", element=\"33b043b0-d32d-4717-b81e-19e93cc809c8\")>,\n",
       " <selenium.webdriver.remote.webelement.WebElement (session=\"131b558e1c16bac55fc5715fae4a1bb0\", element=\"96a3702d-80a6-4021-add1-0e8b0713d873\")>,\n",
       " <selenium.webdriver.remote.webelement.WebElement (session=\"131b558e1c16bac55fc5715fae4a1bb0\", element=\"e8fbd4bd-f0dc-4f8b-84ae-78b2035e53dd\")>,\n",
       " <selenium.webdriver.remote.webelement.WebElement (session=\"131b558e1c16bac55fc5715fae4a1bb0\", element=\"e0ef4c25-b495-4eae-b24a-26f158acf11c\")>,\n",
       " <selenium.webdriver.remote.webelement.WebElement (session=\"131b558e1c16bac55fc5715fae4a1bb0\", element=\"84668297-f6e3-4e1d-896f-3e7c62e2ade0\")>,\n",
       " <selenium.webdriver.remote.webelement.WebElement (session=\"131b558e1c16bac55fc5715fae4a1bb0\", element=\"903e0168-b305-4766-8445-7ffd97a6dfff\")>,\n",
       " <selenium.webdriver.remote.webelement.WebElement (session=\"131b558e1c16bac55fc5715fae4a1bb0\", element=\"744587ef-ef4e-4e38-bde5-0bb8c7063de2\")>,\n",
       " <selenium.webdriver.remote.webelement.WebElement (session=\"131b558e1c16bac55fc5715fae4a1bb0\", element=\"57ac6b16-6bcc-4335-8458-bdbe6156ae18\")>,\n",
       " <selenium.webdriver.remote.webelement.WebElement (session=\"131b558e1c16bac55fc5715fae4a1bb0\", element=\"71df102a-9833-43eb-9670-41384950636e\")>,\n",
       " <selenium.webdriver.remote.webelement.WebElement (session=\"131b558e1c16bac55fc5715fae4a1bb0\", element=\"60e7e174-c957-43fe-ab97-718405f7c2fb\")>,\n",
       " <selenium.webdriver.remote.webelement.WebElement (session=\"131b558e1c16bac55fc5715fae4a1bb0\", element=\"47fedc2c-7bdc-4ed5-b03c-0bb7a9824b52\")>,\n",
       " <selenium.webdriver.remote.webelement.WebElement (session=\"131b558e1c16bac55fc5715fae4a1bb0\", element=\"b1ddd7bf-93fd-4d7c-a44a-b6c2529bb926\")>,\n",
       " <selenium.webdriver.remote.webelement.WebElement (session=\"131b558e1c16bac55fc5715fae4a1bb0\", element=\"8eadbe43-1ea8-4e54-827e-c1adda4f7c8c\")>]"
      ]
     },
     "execution_count": 123,
     "metadata": {},
     "output_type": "execute_result"
    }
   ],
   "source": [
    "companies_tags=driver.find_elements_by_xpath(\"//a[@class='subTitle ellipsis fleft']\")\n",
    "companies_tags"
   ]
  },
  {
   "cell_type": "code",
   "execution_count": 124,
   "id": "b7fa9729",
   "metadata": {},
   "outputs": [],
   "source": [
    "company_names=[]\n",
    "for i in companies_tags:\n",
    "    company_names.append(i.text)"
   ]
  },
  {
   "cell_type": "code",
   "execution_count": 125,
   "id": "06742b8d",
   "metadata": {},
   "outputs": [],
   "source": [
    "experience_tags=driver.find_elements_by_xpath(\"//li[@class='fleft grey-text br2 placeHolderLi experience']\")\n"
   ]
  },
  {
   "cell_type": "code",
   "execution_count": 126,
   "id": "0430ce44",
   "metadata": {},
   "outputs": [],
   "source": [
    "experience_list=[]\n",
    "for i in experience_tags:\n",
    "    experience_list.append(i.text)"
   ]
  },
  {
   "cell_type": "code",
   "execution_count": 127,
   "id": "926988a4",
   "metadata": {},
   "outputs": [
    {
     "data": {
      "text/plain": [
       "['5-10 Yrs',\n",
       " '5-7 Yrs',\n",
       " '3-7 Yrs',\n",
       " '10-12 Yrs',\n",
       " '11-12 Yrs',\n",
       " '11-12 Yrs',\n",
       " '11-12 Yrs',\n",
       " '3-7 Yrs',\n",
       " '4-9 Yrs',\n",
       " '4-9 Yrs',\n",
       " '5-10 Yrs',\n",
       " '4-8 Yrs',\n",
       " '10-15 Yrs',\n",
       " '4-6 Yrs',\n",
       " '8-10 Yrs',\n",
       " '1-5 Yrs',\n",
       " '3-6 Yrs',\n",
       " '2-4 Yrs',\n",
       " '8-10 Yrs',\n",
       " '3-7 Yrs']"
      ]
     },
     "execution_count": 127,
     "metadata": {},
     "output_type": "execute_result"
    }
   ],
   "source": [
    "experience_list"
   ]
  },
  {
   "cell_type": "code",
   "execution_count": 128,
   "id": "76e5661f",
   "metadata": {},
   "outputs": [
    {
     "data": {
      "text/plain": [
       "[<selenium.webdriver.remote.webelement.WebElement (session=\"131b558e1c16bac55fc5715fae4a1bb0\", element=\"640742de-bec8-4a9a-b0d8-0babe4ea5246\")>,\n",
       " <selenium.webdriver.remote.webelement.WebElement (session=\"131b558e1c16bac55fc5715fae4a1bb0\", element=\"f0f7e9f8-3464-4494-8849-e94930987bf5\")>,\n",
       " <selenium.webdriver.remote.webelement.WebElement (session=\"131b558e1c16bac55fc5715fae4a1bb0\", element=\"b99fba5d-dcd4-465d-a2b6-8f21e85d06b1\")>,\n",
       " <selenium.webdriver.remote.webelement.WebElement (session=\"131b558e1c16bac55fc5715fae4a1bb0\", element=\"5a19cabb-3695-46ee-a20e-776eb413de78\")>,\n",
       " <selenium.webdriver.remote.webelement.WebElement (session=\"131b558e1c16bac55fc5715fae4a1bb0\", element=\"fb0593fe-fde0-48b5-b14e-6be90cb6b003\")>,\n",
       " <selenium.webdriver.remote.webelement.WebElement (session=\"131b558e1c16bac55fc5715fae4a1bb0\", element=\"0bd68364-0064-438e-bef8-0f6f413c12dd\")>,\n",
       " <selenium.webdriver.remote.webelement.WebElement (session=\"131b558e1c16bac55fc5715fae4a1bb0\", element=\"4f54c32e-2c50-45dd-98ac-8a65826172a0\")>,\n",
       " <selenium.webdriver.remote.webelement.WebElement (session=\"131b558e1c16bac55fc5715fae4a1bb0\", element=\"4d3bbd60-bb43-4cbc-8977-bf70e6d858ed\")>,\n",
       " <selenium.webdriver.remote.webelement.WebElement (session=\"131b558e1c16bac55fc5715fae4a1bb0\", element=\"98ffd16d-8963-4dcc-83b7-20bb93985059\")>,\n",
       " <selenium.webdriver.remote.webelement.WebElement (session=\"131b558e1c16bac55fc5715fae4a1bb0\", element=\"a92fb8c4-54db-4e79-84f8-e592219a6f04\")>,\n",
       " <selenium.webdriver.remote.webelement.WebElement (session=\"131b558e1c16bac55fc5715fae4a1bb0\", element=\"35d31356-ab39-4e1d-b7b2-4700ae6a0895\")>,\n",
       " <selenium.webdriver.remote.webelement.WebElement (session=\"131b558e1c16bac55fc5715fae4a1bb0\", element=\"d8cff67d-f5e9-4264-83a9-c155c29df498\")>,\n",
       " <selenium.webdriver.remote.webelement.WebElement (session=\"131b558e1c16bac55fc5715fae4a1bb0\", element=\"0554d38c-abd1-477c-ba40-1e4ee391a071\")>,\n",
       " <selenium.webdriver.remote.webelement.WebElement (session=\"131b558e1c16bac55fc5715fae4a1bb0\", element=\"ee1fd63f-89d7-4047-8a8e-4072ec74e187\")>,\n",
       " <selenium.webdriver.remote.webelement.WebElement (session=\"131b558e1c16bac55fc5715fae4a1bb0\", element=\"417ade0f-fd97-4b7f-90a6-005db141c6e8\")>,\n",
       " <selenium.webdriver.remote.webelement.WebElement (session=\"131b558e1c16bac55fc5715fae4a1bb0\", element=\"bfe0b510-3349-4477-baa3-6cf7e7e88077\")>,\n",
       " <selenium.webdriver.remote.webelement.WebElement (session=\"131b558e1c16bac55fc5715fae4a1bb0\", element=\"595f684f-677f-4653-8fb9-694788e8b28a\")>,\n",
       " <selenium.webdriver.remote.webelement.WebElement (session=\"131b558e1c16bac55fc5715fae4a1bb0\", element=\"6f591bbf-a81a-487e-afc3-8dd9bff3befe\")>,\n",
       " <selenium.webdriver.remote.webelement.WebElement (session=\"131b558e1c16bac55fc5715fae4a1bb0\", element=\"9454cdef-f3c5-4a30-aa92-07cf6c9c518a\")>,\n",
       " <selenium.webdriver.remote.webelement.WebElement (session=\"131b558e1c16bac55fc5715fae4a1bb0\", element=\"d4019036-43b6-4bcd-b625-6f73f456a8ab\")>]"
      ]
     },
     "execution_count": 128,
     "metadata": {},
     "output_type": "execute_result"
    }
   ],
   "source": [
    "location_tags=driver.find_elements_by_xpath(\"//li[@class='fleft grey-text br2 placeHolderLi location']\")\n",
    "location_tags"
   ]
  },
  {
   "cell_type": "code",
   "execution_count": 129,
   "id": "80daaa59",
   "metadata": {},
   "outputs": [],
   "source": [
    "locations_list=[]\n",
    "for i in location_tags:\n",
    "    locations_list.append(i.text)"
   ]
  },
  {
   "cell_type": "code",
   "execution_count": 130,
   "id": "1c34191c",
   "metadata": {},
   "outputs": [
    {
     "data": {
      "text/plain": [
       "['Bangalore/Bengaluru',\n",
       " 'Bengaluru/Bangalore',\n",
       " 'Bangalore/Bengaluru',\n",
       " 'Bangalore/Bengaluru',\n",
       " 'Bengaluru/Bangalore',\n",
       " 'Bengaluru/Bangalore',\n",
       " 'Bengaluru/Bangalore',\n",
       " 'Bangalore/Bengaluru',\n",
       " 'Bangalore/Bengaluru',\n",
       " 'Bangalore/Bengaluru, Delhi / NCR, Mumbai (All Areas)\\n(WFH during Covid)',\n",
       " 'Bangalore/Bengaluru',\n",
       " 'Bangalore/Bengaluru',\n",
       " 'Bangalore/Bengaluru',\n",
       " 'Bangalore/Bengaluru\\n(WFH during Covid)',\n",
       " 'Bangalore/Bengaluru',\n",
       " 'Bangalore/Bengaluru',\n",
       " 'Bangalore/Bengaluru',\n",
       " 'Remote',\n",
       " 'Bengaluru/Bangalore',\n",
       " 'Bangalore/Bengaluru']"
      ]
     },
     "execution_count": 130,
     "metadata": {},
     "output_type": "execute_result"
    }
   ],
   "source": [
    "locations_list"
   ]
  },
  {
   "cell_type": "code",
   "execution_count": 131,
   "id": "885279ef",
   "metadata": {},
   "outputs": [],
   "source": [
    "jobs=pd.DataFrame({'Job_title':job_titles[0:10],'Job-location':locations_list[0:10],'Company-name':company_names[:10]})"
   ]
  },
  {
   "cell_type": "code",
   "execution_count": 132,
   "id": "7673317e",
   "metadata": {},
   "outputs": [],
   "source": [
    "jobs.index +=1"
   ]
  },
  {
   "cell_type": "code",
   "execution_count": 134,
   "id": "03567fff",
   "metadata": {},
   "outputs": [
    {
     "data": {
      "text/html": [
       "<div>\n",
       "<style scoped>\n",
       "    .dataframe tbody tr th:only-of-type {\n",
       "        vertical-align: middle;\n",
       "    }\n",
       "\n",
       "    .dataframe tbody tr th {\n",
       "        vertical-align: top;\n",
       "    }\n",
       "\n",
       "    .dataframe thead th {\n",
       "        text-align: right;\n",
       "    }\n",
       "</style>\n",
       "<table border=\"1\" class=\"dataframe\">\n",
       "  <thead>\n",
       "    <tr style=\"text-align: right;\">\n",
       "      <th></th>\n",
       "      <th>Job_title</th>\n",
       "      <th>Job-location</th>\n",
       "      <th>Company-name</th>\n",
       "    </tr>\n",
       "  </thead>\n",
       "  <tbody>\n",
       "    <tr>\n",
       "      <th>1</th>\n",
       "      <td>Senior Data Scientist</td>\n",
       "      <td>Bangalore/Bengaluru</td>\n",
       "      <td>Fractal Analytics</td>\n",
       "    </tr>\n",
       "    <tr>\n",
       "      <th>2</th>\n",
       "      <td>Data Scientist: Advanced Analytics</td>\n",
       "      <td>Bengaluru/Bangalore</td>\n",
       "      <td>IBM</td>\n",
       "    </tr>\n",
       "    <tr>\n",
       "      <th>3</th>\n",
       "      <td>Data Scientist</td>\n",
       "      <td>Bangalore/Bengaluru</td>\n",
       "      <td>VISA</td>\n",
       "    </tr>\n",
       "    <tr>\n",
       "      <th>4</th>\n",
       "      <td>Data Scientist: Artificial Intelligence</td>\n",
       "      <td>Bangalore/Bengaluru</td>\n",
       "      <td>IBM</td>\n",
       "    </tr>\n",
       "    <tr>\n",
       "      <th>5</th>\n",
       "      <td>Data Scientist: Artificial Intelligence</td>\n",
       "      <td>Bengaluru/Bangalore</td>\n",
       "      <td>IBM</td>\n",
       "    </tr>\n",
       "    <tr>\n",
       "      <th>6</th>\n",
       "      <td>Data Scientist: Artificial Intelligence</td>\n",
       "      <td>Bengaluru/Bangalore</td>\n",
       "      <td>IBM</td>\n",
       "    </tr>\n",
       "    <tr>\n",
       "      <th>7</th>\n",
       "      <td>Data Scientist: Artificial Intelligence</td>\n",
       "      <td>Bengaluru/Bangalore</td>\n",
       "      <td>IBM</td>\n",
       "    </tr>\n",
       "    <tr>\n",
       "      <th>8</th>\n",
       "      <td>Data Scientist, Machine Learning (AIML)</td>\n",
       "      <td>Bangalore/Bengaluru</td>\n",
       "      <td>Fractal Analytics</td>\n",
       "    </tr>\n",
       "    <tr>\n",
       "      <th>9</th>\n",
       "      <td>Sr. Data Scientist</td>\n",
       "      <td>Bangalore/Bengaluru</td>\n",
       "      <td>HUDSON'S BAY SERVICES PRIVATE LIMITED</td>\n",
       "    </tr>\n",
       "    <tr>\n",
       "      <th>10</th>\n",
       "      <td>Lead Data Scientist</td>\n",
       "      <td>Bangalore/Bengaluru, Delhi / NCR, Mumbai (All ...</td>\n",
       "      <td>TransOrg Solutions Services (P) Ltd.</td>\n",
       "    </tr>\n",
       "  </tbody>\n",
       "</table>\n",
       "</div>"
      ],
      "text/plain": [
       "                                  Job_title  \\\n",
       "1                     Senior Data Scientist   \n",
       "2        Data Scientist: Advanced Analytics   \n",
       "3                            Data Scientist   \n",
       "4   Data Scientist: Artificial Intelligence   \n",
       "5   Data Scientist: Artificial Intelligence   \n",
       "6   Data Scientist: Artificial Intelligence   \n",
       "7   Data Scientist: Artificial Intelligence   \n",
       "8   Data Scientist, Machine Learning (AIML)   \n",
       "9                        Sr. Data Scientist   \n",
       "10                      Lead Data Scientist   \n",
       "\n",
       "                                         Job-location  \\\n",
       "1                                 Bangalore/Bengaluru   \n",
       "2                                 Bengaluru/Bangalore   \n",
       "3                                 Bangalore/Bengaluru   \n",
       "4                                 Bangalore/Bengaluru   \n",
       "5                                 Bengaluru/Bangalore   \n",
       "6                                 Bengaluru/Bangalore   \n",
       "7                                 Bengaluru/Bangalore   \n",
       "8                                 Bangalore/Bengaluru   \n",
       "9                                 Bangalore/Bengaluru   \n",
       "10  Bangalore/Bengaluru, Delhi / NCR, Mumbai (All ...   \n",
       "\n",
       "                             Company-name  \n",
       "1                       Fractal Analytics  \n",
       "2                                     IBM  \n",
       "3                                    VISA  \n",
       "4                                     IBM  \n",
       "5                                     IBM  \n",
       "6                                     IBM  \n",
       "7                                     IBM  \n",
       "8                       Fractal Analytics  \n",
       "9   HUDSON'S BAY SERVICES PRIVATE LIMITED  \n",
       "10   TransOrg Solutions Services (P) Ltd.  "
      ]
     },
     "execution_count": 134,
     "metadata": {},
     "output_type": "execute_result"
    }
   ],
   "source": [
    "jobs"
   ]
  },
  {
   "cell_type": "markdown",
   "id": "c3618ed1",
   "metadata": {},
   "source": [
    "# Question-1"
   ]
  },
  {
   "cell_type": "code",
   "execution_count": 136,
   "id": "2f835af5",
   "metadata": {},
   "outputs": [],
   "source": [
    "driver1=webdriver.Chrome(r\"C:\\webdriver\\chromedriver.exe\")"
   ]
  },
  {
   "cell_type": "code",
   "execution_count": 137,
   "id": "86fd5ae5",
   "metadata": {},
   "outputs": [],
   "source": [
    "driver1.get(\"http://www.naukri.com/\")"
   ]
  },
  {
   "cell_type": "code",
   "execution_count": 139,
   "id": "520dcc41",
   "metadata": {},
   "outputs": [],
   "source": [
    "search_field_designtion=driver1.find_element_by_class_name(\"suggestor-input\")"
   ]
  },
  {
   "cell_type": "code",
   "execution_count": 140,
   "id": "4e12f250",
   "metadata": {},
   "outputs": [],
   "source": [
    "search_field_designtion.send_keys(\"Data Analyst\")"
   ]
  },
  {
   "cell_type": "code",
   "execution_count": 142,
   "id": "ab3c4ce2",
   "metadata": {},
   "outputs": [],
   "source": [
    "search_field_loc=driver1.find_element_by_xpath('/html/body/div/div[2]/div[3]/div/div/div[3]/div/div/div/input')"
   ]
  },
  {
   "cell_type": "code",
   "execution_count": 143,
   "id": "091c6d9d",
   "metadata": {},
   "outputs": [],
   "source": [
    "search_field_loc.send_keys('Bangalore')"
   ]
  },
  {
   "cell_type": "code",
   "execution_count": 145,
   "id": "d53b2250",
   "metadata": {},
   "outputs": [],
   "source": [
    "search_button=driver1.find_element_by_xpath('/html/body/div/div[2]/div[3]/div/div/div[6]')"
   ]
  },
  {
   "cell_type": "code",
   "execution_count": 146,
   "id": "ec71f82b",
   "metadata": {},
   "outputs": [],
   "source": [
    "search_button.click()"
   ]
  },
  {
   "cell_type": "code",
   "execution_count": 148,
   "id": "12b9da81",
   "metadata": {},
   "outputs": [],
   "source": [
    "job_titles=[]\n",
    "titles_tags=driver1.find_elements_by_xpath(\"//a[@class='title fw500 ellipsis']\")\n",
    "for i in titles_tags:\n",
    "    title=i.text\n",
    "    job_titles.append(title)"
   ]
  },
  {
   "cell_type": "code",
   "execution_count": 150,
   "id": "47971a1a",
   "metadata": {},
   "outputs": [],
   "source": [
    "companies_tags=driver1.find_elements_by_xpath(\"//a[@class='subTitle ellipsis fleft']\")\n",
    "company_names=[]\n",
    "for i in companies_tags:\n",
    "    company_names.append(i.text)\n"
   ]
  },
  {
   "cell_type": "code",
   "execution_count": null,
   "id": "4f3a6cb5",
   "metadata": {},
   "outputs": [],
   "source": [
    "experience_tags=driver1.find_elements_by_xpath(\"//li[@class='fleft grey-text br2 placeHolderLi experience']\")\n",
    "experience_list=[]\n",
    "for i in experience_tags:\n",
    "    experience_list.append(i.text)"
   ]
  },
  {
   "cell_type": "code",
   "execution_count": 152,
   "id": "a86130be",
   "metadata": {},
   "outputs": [],
   "source": [
    "location_tags=driver1.find_elements_by_xpath(\"//li[@class='fleft grey-text br2 placeHolderLi location']\")\n",
    "locations_list=[]\n",
    "for i in location_tags:\n",
    "    locations_list.append(i.text)"
   ]
  },
  {
   "cell_type": "code",
   "execution_count": 155,
   "id": "36f83ce0",
   "metadata": {},
   "outputs": [],
   "source": [
    "jobs=pd.DataFrame({'Job_title':job_titles[0:10],'Job-location':locations_list[0:10],'Company-name':company_names[0:10],'Experience-required':experience_list[0:10]})\n",
    "jobs.index +=1"
   ]
  },
  {
   "cell_type": "code",
   "execution_count": 156,
   "id": "59d5c2b5",
   "metadata": {},
   "outputs": [
    {
     "data": {
      "text/html": [
       "<div>\n",
       "<style scoped>\n",
       "    .dataframe tbody tr th:only-of-type {\n",
       "        vertical-align: middle;\n",
       "    }\n",
       "\n",
       "    .dataframe tbody tr th {\n",
       "        vertical-align: top;\n",
       "    }\n",
       "\n",
       "    .dataframe thead th {\n",
       "        text-align: right;\n",
       "    }\n",
       "</style>\n",
       "<table border=\"1\" class=\"dataframe\">\n",
       "  <thead>\n",
       "    <tr style=\"text-align: right;\">\n",
       "      <th></th>\n",
       "      <th>Job_title</th>\n",
       "      <th>Job-location</th>\n",
       "      <th>Company-name</th>\n",
       "      <th>Experience-required</th>\n",
       "    </tr>\n",
       "  </thead>\n",
       "  <tbody>\n",
       "    <tr>\n",
       "      <th>1</th>\n",
       "      <td>Senior Data Analyst</td>\n",
       "      <td>Bangalore/Bengaluru</td>\n",
       "      <td>Thomson Reuters</td>\n",
       "      <td>5-10 Yrs</td>\n",
       "    </tr>\n",
       "    <tr>\n",
       "      <th>2</th>\n",
       "      <td>Data Analyst- customer facing</td>\n",
       "      <td>Bangalore/Bengaluru</td>\n",
       "      <td>Synamedia</td>\n",
       "      <td>5-7 Yrs</td>\n",
       "    </tr>\n",
       "    <tr>\n",
       "      <th>3</th>\n",
       "      <td>Sr Data Analyst II</td>\n",
       "      <td>Gurgaon/Gurugram, Bangalore/Bengaluru</td>\n",
       "      <td>IHS Markit</td>\n",
       "      <td>3-7 Yrs</td>\n",
       "    </tr>\n",
       "    <tr>\n",
       "      <th>4</th>\n",
       "      <td>Business analyst + data Analysis</td>\n",
       "      <td>Hyderabad/Secunderabad, Bangalore/Bengaluru</td>\n",
       "      <td>Anlage Infotech (I) Pvt. Ltd.</td>\n",
       "      <td>10-12 Yrs</td>\n",
       "    </tr>\n",
       "    <tr>\n",
       "      <th>5</th>\n",
       "      <td>Data Analyst</td>\n",
       "      <td>Bangalore/Bengaluru</td>\n",
       "      <td>VOLVO ASSET FINANCE INDIA PRIVATE LIMITED</td>\n",
       "      <td>11-12 Yrs</td>\n",
       "    </tr>\n",
       "    <tr>\n",
       "      <th>6</th>\n",
       "      <td>Hiring For Data Analyst with SAP ABAP &amp; BW - C...</td>\n",
       "      <td>Bangalore/Bengaluru\\n(WFH during Covid)</td>\n",
       "      <td>MILLION MINDS INFOTECH PRIVATE LIMITED</td>\n",
       "      <td>11-12 Yrs</td>\n",
       "    </tr>\n",
       "    <tr>\n",
       "      <th>7</th>\n",
       "      <td>Senior Business Analyst - Data Sciences and Ad...</td>\n",
       "      <td>Bangalore/Bengaluru</td>\n",
       "      <td>Vmware</td>\n",
       "      <td>11-12 Yrs</td>\n",
       "    </tr>\n",
       "    <tr>\n",
       "      <th>8</th>\n",
       "      <td>Business and Data Analyst</td>\n",
       "      <td>Bangalore/Bengaluru\\n(WFH during Covid)</td>\n",
       "      <td>CAREERDOST ENTERPRISE</td>\n",
       "      <td>3-7 Yrs</td>\n",
       "    </tr>\n",
       "    <tr>\n",
       "      <th>9</th>\n",
       "      <td>Senior Data Analyst | Lululemon</td>\n",
       "      <td>Bangalore/Bengaluru</td>\n",
       "      <td>TALENT500 TECH (INDIA) PRIVATE LIMITED</td>\n",
       "      <td>4-9 Yrs</td>\n",
       "    </tr>\n",
       "    <tr>\n",
       "      <th>10</th>\n",
       "      <td>Urgent hiring For Senior Data Analyst</td>\n",
       "      <td>Bangalore/Bengaluru</td>\n",
       "      <td>upGrad</td>\n",
       "      <td>4-9 Yrs</td>\n",
       "    </tr>\n",
       "  </tbody>\n",
       "</table>\n",
       "</div>"
      ],
      "text/plain": [
       "                                            Job_title  \\\n",
       "1                                 Senior Data Analyst   \n",
       "2                       Data Analyst- customer facing   \n",
       "3                                  Sr Data Analyst II   \n",
       "4                    Business analyst + data Analysis   \n",
       "5                                        Data Analyst   \n",
       "6   Hiring For Data Analyst with SAP ABAP & BW - C...   \n",
       "7   Senior Business Analyst - Data Sciences and Ad...   \n",
       "8                           Business and Data Analyst   \n",
       "9                     Senior Data Analyst | Lululemon   \n",
       "10              Urgent hiring For Senior Data Analyst   \n",
       "\n",
       "                                   Job-location  \\\n",
       "1                           Bangalore/Bengaluru   \n",
       "2                           Bangalore/Bengaluru   \n",
       "3         Gurgaon/Gurugram, Bangalore/Bengaluru   \n",
       "4   Hyderabad/Secunderabad, Bangalore/Bengaluru   \n",
       "5                           Bangalore/Bengaluru   \n",
       "6       Bangalore/Bengaluru\\n(WFH during Covid)   \n",
       "7                           Bangalore/Bengaluru   \n",
       "8       Bangalore/Bengaluru\\n(WFH during Covid)   \n",
       "9                           Bangalore/Bengaluru   \n",
       "10                          Bangalore/Bengaluru   \n",
       "\n",
       "                                 Company-name Experience-required  \n",
       "1                             Thomson Reuters            5-10 Yrs  \n",
       "2                                   Synamedia             5-7 Yrs  \n",
       "3                                  IHS Markit             3-7 Yrs  \n",
       "4               Anlage Infotech (I) Pvt. Ltd.           10-12 Yrs  \n",
       "5   VOLVO ASSET FINANCE INDIA PRIVATE LIMITED           11-12 Yrs  \n",
       "6      MILLION MINDS INFOTECH PRIVATE LIMITED           11-12 Yrs  \n",
       "7                                      Vmware           11-12 Yrs  \n",
       "8                       CAREERDOST ENTERPRISE             3-7 Yrs  \n",
       "9      TALENT500 TECH (INDIA) PRIVATE LIMITED             4-9 Yrs  \n",
       "10                                     upGrad             4-9 Yrs  "
      ]
     },
     "execution_count": 156,
     "metadata": {},
     "output_type": "execute_result"
    }
   ],
   "source": [
    "jobs"
   ]
  },
  {
   "cell_type": "code",
   "execution_count": 157,
   "id": "96541d15",
   "metadata": {},
   "outputs": [],
   "source": [
    "driver1.close()"
   ]
  },
  {
   "cell_type": "markdown",
   "id": "3852a6ad",
   "metadata": {},
   "source": [
    "# Question-3"
   ]
  },
  {
   "cell_type": "code",
   "execution_count": 181,
   "id": "05f3143b",
   "metadata": {},
   "outputs": [],
   "source": [
    "driver3=webdriver.Chrome(r\"C:\\webdriver\\chromedriver.exe\")"
   ]
  },
  {
   "cell_type": "code",
   "execution_count": 182,
   "id": "39f8e8c2",
   "metadata": {},
   "outputs": [],
   "source": [
    "driver3.get(\"http://www.naukri.com/\")"
   ]
  },
  {
   "cell_type": "code",
   "execution_count": 183,
   "id": "37ec06ed",
   "metadata": {},
   "outputs": [],
   "source": [
    "search_field_designtion=driver3.find_element_by_class_name(\"suggestor-input\")"
   ]
  },
  {
   "cell_type": "code",
   "execution_count": 184,
   "id": "c07d3046",
   "metadata": {},
   "outputs": [],
   "source": [
    "search_field_designtion.send_keys(\"Data Scientist\")"
   ]
  },
  {
   "cell_type": "code",
   "execution_count": 185,
   "id": "07756294",
   "metadata": {},
   "outputs": [],
   "source": [
    "search_button=driver3.find_element_by_xpath('/html/body/div/div[2]/div[3]/div/div/div[6]')"
   ]
  },
  {
   "cell_type": "code",
   "execution_count": 186,
   "id": "1e333433",
   "metadata": {},
   "outputs": [],
   "source": [
    "search_button.click()"
   ]
  },
  {
   "cell_type": "code",
   "execution_count": 188,
   "id": "830d8b46",
   "metadata": {},
   "outputs": [],
   "source": [
    "search_field_sal=driver3.find_element_by_xpath('/html/body/div[1]/div[3]/div[2]/section[1]/div[2]/div[5]/div[2]/div[2]/label/i')"
   ]
  },
  {
   "cell_type": "code",
   "execution_count": 189,
   "id": "fdc7021d",
   "metadata": {},
   "outputs": [],
   "source": [
    "search_field_sal.click()"
   ]
  },
  {
   "cell_type": "code",
   "execution_count": 190,
   "id": "030d5ec7",
   "metadata": {},
   "outputs": [],
   "source": [
    "search_field_loc=driver3.find_element_by_xpath('/html/body/div[1]/div[3]/div[2]/section[1]/div[2]/div[5]/div[2]/div[3]/label/i')"
   ]
  },
  {
   "cell_type": "code",
   "execution_count": 191,
   "id": "6ff73515",
   "metadata": {},
   "outputs": [],
   "source": [
    "search_field_loc.click()"
   ]
  },
  {
   "cell_type": "code",
   "execution_count": 193,
   "id": "1e02b527",
   "metadata": {},
   "outputs": [],
   "source": [
    "job_titles=[]\n",
    "titles_tags=driver3.find_elements_by_xpath(\"//a[@class='title fw500 ellipsis']\")\n",
    "for i in titles_tags:\n",
    "    title=i.text\n",
    "    job_titles.append(title)"
   ]
  },
  {
   "cell_type": "code",
   "execution_count": 194,
   "id": "247a7dc0",
   "metadata": {},
   "outputs": [],
   "source": [
    "companies_tags=driver3.find_elements_by_xpath(\"//a[@class='subTitle ellipsis fleft']\")\n",
    "company_names=[]\n",
    "for i in companies_tags:\n",
    "    company_names.append(i.text)"
   ]
  },
  {
   "cell_type": "code",
   "execution_count": 197,
   "id": "182b5a41",
   "metadata": {},
   "outputs": [],
   "source": [
    "experience_tags=driver3.find_elements_by_xpath(\"//li[@class='fleft grey-text br2 placeHolderLi experience']\")\n",
    "experience_list=[]\n",
    "for i in experience_tags:\n",
    "    experience_list.append(i.text)"
   ]
  },
  {
   "cell_type": "code",
   "execution_count": 198,
   "id": "5abead3d",
   "metadata": {},
   "outputs": [],
   "source": [
    "location_tags=driver3.find_elements_by_xpath(\"//li[@class='fleft grey-text br2 placeHolderLi location']\")\n",
    "locations_list=[]\n",
    "for i in location_tags:\n",
    "    locations_list.append(i.text)"
   ]
  },
  {
   "cell_type": "code",
   "execution_count": 199,
   "id": "7db745a9",
   "metadata": {},
   "outputs": [
    {
     "data": {
      "text/html": [
       "<div>\n",
       "<style scoped>\n",
       "    .dataframe tbody tr th:only-of-type {\n",
       "        vertical-align: middle;\n",
       "    }\n",
       "\n",
       "    .dataframe tbody tr th {\n",
       "        vertical-align: top;\n",
       "    }\n",
       "\n",
       "    .dataframe thead th {\n",
       "        text-align: right;\n",
       "    }\n",
       "</style>\n",
       "<table border=\"1\" class=\"dataframe\">\n",
       "  <thead>\n",
       "    <tr style=\"text-align: right;\">\n",
       "      <th></th>\n",
       "      <th>Job_title</th>\n",
       "      <th>Job-location</th>\n",
       "      <th>Company-name</th>\n",
       "      <th>Experience-required</th>\n",
       "    </tr>\n",
       "  </thead>\n",
       "  <tbody>\n",
       "    <tr>\n",
       "      <th>1</th>\n",
       "      <td>Data Scientist</td>\n",
       "      <td>Noida, Bangalore/Bengaluru</td>\n",
       "      <td>Ashkom Media India Private Limited</td>\n",
       "      <td>3-6 Yrs</td>\n",
       "    </tr>\n",
       "    <tr>\n",
       "      <th>2</th>\n",
       "      <td>Associate Data Scientist</td>\n",
       "      <td>Gurgaon/Gurugram</td>\n",
       "      <td>Optum</td>\n",
       "      <td>1-5 Yrs</td>\n",
       "    </tr>\n",
       "    <tr>\n",
       "      <th>3</th>\n",
       "      <td>Associate Scientist - Data Engineering</td>\n",
       "      <td>Gurgaon/Gurugram</td>\n",
       "      <td>AXA Technology Services India Pvt. Ltd</td>\n",
       "      <td>2-5 Yrs</td>\n",
       "    </tr>\n",
       "    <tr>\n",
       "      <th>4</th>\n",
       "      <td>Data Scientist || Software Company || Immediat...</td>\n",
       "      <td>Gurgaon/Gurugram, Bangalore/Bengaluru</td>\n",
       "      <td>Skyleaf Consultants</td>\n",
       "      <td>3-8 Yrs</td>\n",
       "    </tr>\n",
       "    <tr>\n",
       "      <th>5</th>\n",
       "      <td>Data Scientist/ Machine Learning, 2022 Passout...</td>\n",
       "      <td>Hyderabad/Secunderabad, Pune, Chennai, Delhi /...</td>\n",
       "      <td>Creative Hands HR Consultancy</td>\n",
       "      <td>0-4 Yrs</td>\n",
       "    </tr>\n",
       "    <tr>\n",
       "      <th>6</th>\n",
       "      <td>Hiring For Data Analyst and Data Scientist For...</td>\n",
       "      <td>Noida, Gurgaon/Gurugram, Delhi / NCR</td>\n",
       "      <td>Shadow Placements</td>\n",
       "      <td>3-7 Yrs</td>\n",
       "    </tr>\n",
       "    <tr>\n",
       "      <th>7</th>\n",
       "      <td>Data Scientist (freelance)</td>\n",
       "      <td>New Delhi, Delhi</td>\n",
       "      <td>2Coms</td>\n",
       "      <td>2-7 Yrs</td>\n",
       "    </tr>\n",
       "    <tr>\n",
       "      <th>8</th>\n",
       "      <td>Data Scientists</td>\n",
       "      <td>Gurgaon/Gurugram</td>\n",
       "      <td>Nibha Infotech Private Limited</td>\n",
       "      <td>5-8 Yrs</td>\n",
       "    </tr>\n",
       "    <tr>\n",
       "      <th>9</th>\n",
       "      <td>Data Scientist</td>\n",
       "      <td>Gurgaon, Bengaluru</td>\n",
       "      <td>BlackBuck</td>\n",
       "      <td>3-7 Yrs</td>\n",
       "    </tr>\n",
       "    <tr>\n",
       "      <th>10</th>\n",
       "      <td>Data Scientist</td>\n",
       "      <td>New Delhi</td>\n",
       "      <td>Boston Consulting Group</td>\n",
       "      <td>2-5 Yrs</td>\n",
       "    </tr>\n",
       "  </tbody>\n",
       "</table>\n",
       "</div>"
      ],
      "text/plain": [
       "                                            Job_title  \\\n",
       "1                                      Data Scientist   \n",
       "2                            Associate Data Scientist   \n",
       "3              Associate Scientist - Data Engineering   \n",
       "4   Data Scientist || Software Company || Immediat...   \n",
       "5   Data Scientist/ Machine Learning, 2022 Passout...   \n",
       "6   Hiring For Data Analyst and Data Scientist For...   \n",
       "7                          Data Scientist (freelance)   \n",
       "8                                     Data Scientists   \n",
       "9                                      Data Scientist   \n",
       "10                                     Data Scientist   \n",
       "\n",
       "                                         Job-location  \\\n",
       "1                          Noida, Bangalore/Bengaluru   \n",
       "2                                    Gurgaon/Gurugram   \n",
       "3                                    Gurgaon/Gurugram   \n",
       "4               Gurgaon/Gurugram, Bangalore/Bengaluru   \n",
       "5   Hyderabad/Secunderabad, Pune, Chennai, Delhi /...   \n",
       "6                Noida, Gurgaon/Gurugram, Delhi / NCR   \n",
       "7                                    New Delhi, Delhi   \n",
       "8                                    Gurgaon/Gurugram   \n",
       "9                                  Gurgaon, Bengaluru   \n",
       "10                                          New Delhi   \n",
       "\n",
       "                              Company-name Experience-required  \n",
       "1       Ashkom Media India Private Limited             3-6 Yrs  \n",
       "2                                    Optum             1-5 Yrs  \n",
       "3   AXA Technology Services India Pvt. Ltd             2-5 Yrs  \n",
       "4                      Skyleaf Consultants             3-8 Yrs  \n",
       "5            Creative Hands HR Consultancy             0-4 Yrs  \n",
       "6                        Shadow Placements             3-7 Yrs  \n",
       "7                                    2Coms             2-7 Yrs  \n",
       "8           Nibha Infotech Private Limited             5-8 Yrs  \n",
       "9                                BlackBuck             3-7 Yrs  \n",
       "10                 Boston Consulting Group             2-5 Yrs  "
      ]
     },
     "execution_count": 199,
     "metadata": {},
     "output_type": "execute_result"
    }
   ],
   "source": [
    "jobs=pd.DataFrame({'Job_title':job_titles[0:10],'Job-location':locations_list[0:10],'Company-name':company_names[0:10],'Experience-required':experience_list[0:10]})\n",
    "jobs.index +=1\n",
    "jobs"
   ]
  },
  {
   "cell_type": "code",
   "execution_count": 200,
   "id": "ca35653a",
   "metadata": {},
   "outputs": [],
   "source": [
    "driver3.close()"
   ]
  },
  {
   "cell_type": "markdown",
   "id": "2478f9ea",
   "metadata": {},
   "source": [
    "# Question-4"
   ]
  },
  {
   "cell_type": "code",
   "execution_count": 388,
   "id": "88597334",
   "metadata": {},
   "outputs": [],
   "source": [
    "driver4=webdriver.Chrome(r\"C:\\webdriver\\chromedriver.exe\")"
   ]
  },
  {
   "cell_type": "code",
   "execution_count": 389,
   "id": "b218c3ba",
   "metadata": {},
   "outputs": [],
   "source": [
    "driver4.get(\"https://www.flipkart.com/\")"
   ]
  },
  {
   "cell_type": "code",
   "execution_count": 390,
   "id": "ade84f94",
   "metadata": {},
   "outputs": [],
   "source": [
    "popup=driver4.find_element_by_xpath('/html/body/div[2]/div/div/button')"
   ]
  },
  {
   "cell_type": "code",
   "execution_count": 391,
   "id": "47e3dcf9",
   "metadata": {},
   "outputs": [],
   "source": [
    "popup.click()"
   ]
  },
  {
   "cell_type": "code",
   "execution_count": 392,
   "id": "0e2dfee4",
   "metadata": {},
   "outputs": [],
   "source": [
    "search_field_item=driver4.find_element_by_class_name(\"_3704LK\")"
   ]
  },
  {
   "cell_type": "code",
   "execution_count": 393,
   "id": "3bee532d",
   "metadata": {},
   "outputs": [],
   "source": [
    "search_field_item.send_keys('sunglasses')"
   ]
  },
  {
   "cell_type": "code",
   "execution_count": 394,
   "id": "59deab37",
   "metadata": {},
   "outputs": [],
   "source": [
    "search_icon=driver4.find_element_by_class_name(\"L0Z3Pu\")"
   ]
  },
  {
   "cell_type": "code",
   "execution_count": 395,
   "id": "4f3dbfcd",
   "metadata": {},
   "outputs": [],
   "source": [
    "search_icon.click()"
   ]
  },
  {
   "cell_type": "code",
   "execution_count": 396,
   "id": "77cf8445",
   "metadata": {},
   "outputs": [],
   "source": [
    "nextbutton=driver4.find_element_by_xpath('/html/body/div[1]/div/div[3]/div[1]/div[2]/div[12]/div/div/nav/a[11]')\n",
    "brand_name=[]\n",
    "description=[]\n",
    "discount=[]\n",
    "price=[]\n",
    "j=1\n",
    "for k in [1,2,3]:\n",
    "    brand_tag=driver4.find_elements_by_xpath(\"//div[@class='_2WkVRV']\")\n",
    "    product_desc=driver4.find_elements_by_xpath(\"//a[@class='IRpwTa']\")\n",
    "    discount_tag=driver4.find_elements_by_xpath(\"//div[@class='_3Ay6Sb']\")\n",
    "    price_tag=driver4.find_elements_by_xpath(\"//div[@class='_30jeq3']\")\n",
    "    \n",
    "    for i in brand_tag:\n",
    "        brand_name.append(i.text)\n",
    "    \n",
    "    for i in product_desc:\n",
    "        description.append(i.text)\n",
    "    for i in price_tag:\n",
    "        price.append(i.text)\n",
    "    for i in discount_tag:\n",
    "        discount.append(i.text)\n",
    "    \n",
    "    \n",
    "    nextbutton.click()\n",
    "    time.sleep(5)\n",
    "    nextbutton=driver4.find_element_by_xpath('/html/body/div[1]/div/div[3]/div[1]/div[2]/div[12]/div/div/nav/a[12]')"
   ]
  },
  {
   "cell_type": "code",
   "execution_count": 399,
   "id": "0561cddd",
   "metadata": {},
   "outputs": [],
   "source": [
    "product_details=pd.DataFrame({'Brand':brand_name[0:100],'Product_Description':description[0:100],'Price':price[0:100],'Discount':discount[0:100]})\n",
    "product_details.index +=1"
   ]
  },
  {
   "cell_type": "code",
   "execution_count": 400,
   "id": "43ff5190",
   "metadata": {},
   "outputs": [
    {
     "data": {
      "text/html": [
       "<div>\n",
       "<style scoped>\n",
       "    .dataframe tbody tr th:only-of-type {\n",
       "        vertical-align: middle;\n",
       "    }\n",
       "\n",
       "    .dataframe tbody tr th {\n",
       "        vertical-align: top;\n",
       "    }\n",
       "\n",
       "    .dataframe thead th {\n",
       "        text-align: right;\n",
       "    }\n",
       "</style>\n",
       "<table border=\"1\" class=\"dataframe\">\n",
       "  <thead>\n",
       "    <tr style=\"text-align: right;\">\n",
       "      <th></th>\n",
       "      <th>Brand</th>\n",
       "      <th>Product_Description</th>\n",
       "      <th>Price</th>\n",
       "      <th>Discount</th>\n",
       "    </tr>\n",
       "  </thead>\n",
       "  <tbody>\n",
       "    <tr>\n",
       "      <th>1</th>\n",
       "      <td>CART2DEAL</td>\n",
       "      <td>UV Protection, Riding Glasses, Mirrored Aviato...</td>\n",
       "      <td>₹1,274</td>\n",
       "      <td>84% off</td>\n",
       "    </tr>\n",
       "    <tr>\n",
       "      <th>2</th>\n",
       "      <td>VINCENT CHASE</td>\n",
       "      <td>by Lenskart Polarized, UV Protection Aviator S...</td>\n",
       "      <td>₹899</td>\n",
       "      <td>55% off</td>\n",
       "    </tr>\n",
       "    <tr>\n",
       "      <th>3</th>\n",
       "      <td>Fastrack</td>\n",
       "      <td>UV Protection Wayfarer Sunglasses (Free Size)</td>\n",
       "      <td>₹719</td>\n",
       "      <td>20% off</td>\n",
       "    </tr>\n",
       "    <tr>\n",
       "      <th>4</th>\n",
       "      <td>Fastrack</td>\n",
       "      <td>UV Protection Rectangular Sunglasses (Free Size)</td>\n",
       "      <td>₹639</td>\n",
       "      <td>20% off</td>\n",
       "    </tr>\n",
       "    <tr>\n",
       "      <th>5</th>\n",
       "      <td>SUNBEE</td>\n",
       "      <td>UV Protection, Polarized Wayfarer Sunglasses (...</td>\n",
       "      <td>₹283</td>\n",
       "      <td>78% off</td>\n",
       "    </tr>\n",
       "    <tr>\n",
       "      <th>...</th>\n",
       "      <td>...</td>\n",
       "      <td>...</td>\n",
       "      <td>...</td>\n",
       "      <td>...</td>\n",
       "    </tr>\n",
       "    <tr>\n",
       "      <th>96</th>\n",
       "      <td>LOUIS KOUROS</td>\n",
       "      <td>UV Protection Round Sunglasses (Free Size)</td>\n",
       "      <td>₹1,492</td>\n",
       "      <td>81% off</td>\n",
       "    </tr>\n",
       "    <tr>\n",
       "      <th>97</th>\n",
       "      <td>WROGN</td>\n",
       "      <td>UV Protection, Others Round Sunglasses (48)</td>\n",
       "      <td>₹859</td>\n",
       "      <td>73% off</td>\n",
       "    </tr>\n",
       "    <tr>\n",
       "      <th>98</th>\n",
       "      <td>ROZZETTA CRAFT</td>\n",
       "      <td>Toughened Glass Lens, UV Protection Rectangula...</td>\n",
       "      <td>₹398</td>\n",
       "      <td>80% off</td>\n",
       "    </tr>\n",
       "    <tr>\n",
       "      <th>99</th>\n",
       "      <td>Rich Club</td>\n",
       "      <td>UV Protection, Riding Glasses, Others Aviator,...</td>\n",
       "      <td>₹260</td>\n",
       "      <td>67% off</td>\n",
       "    </tr>\n",
       "    <tr>\n",
       "      <th>100</th>\n",
       "      <td>AISLIN</td>\n",
       "      <td>Gradient, UV Protection Wayfarer Sunglasses (F...</td>\n",
       "      <td>₹816</td>\n",
       "      <td>77% off</td>\n",
       "    </tr>\n",
       "  </tbody>\n",
       "</table>\n",
       "<p>100 rows × 4 columns</p>\n",
       "</div>"
      ],
      "text/plain": [
       "              Brand                                Product_Description  \\\n",
       "1         CART2DEAL  UV Protection, Riding Glasses, Mirrored Aviato...   \n",
       "2     VINCENT CHASE  by Lenskart Polarized, UV Protection Aviator S...   \n",
       "3          Fastrack      UV Protection Wayfarer Sunglasses (Free Size)   \n",
       "4          Fastrack   UV Protection Rectangular Sunglasses (Free Size)   \n",
       "5            SUNBEE  UV Protection, Polarized Wayfarer Sunglasses (...   \n",
       "..              ...                                                ...   \n",
       "96     LOUIS KOUROS         UV Protection Round Sunglasses (Free Size)   \n",
       "97            WROGN        UV Protection, Others Round Sunglasses (48)   \n",
       "98   ROZZETTA CRAFT  Toughened Glass Lens, UV Protection Rectangula...   \n",
       "99        Rich Club  UV Protection, Riding Glasses, Others Aviator,...   \n",
       "100          AISLIN  Gradient, UV Protection Wayfarer Sunglasses (F...   \n",
       "\n",
       "      Price Discount  \n",
       "1    ₹1,274  84% off  \n",
       "2      ₹899  55% off  \n",
       "3      ₹719  20% off  \n",
       "4      ₹639  20% off  \n",
       "5      ₹283  78% off  \n",
       "..      ...      ...  \n",
       "96   ₹1,492  81% off  \n",
       "97     ₹859  73% off  \n",
       "98     ₹398  80% off  \n",
       "99     ₹260  67% off  \n",
       "100    ₹816  77% off  \n",
       "\n",
       "[100 rows x 4 columns]"
      ]
     },
     "execution_count": 400,
     "metadata": {},
     "output_type": "execute_result"
    }
   ],
   "source": [
    "product_details"
   ]
  },
  {
   "cell_type": "markdown",
   "id": "316d69d1",
   "metadata": {},
   "source": [
    "# Question-6"
   ]
  },
  {
   "cell_type": "code",
   "execution_count": 401,
   "id": "52f33e02",
   "metadata": {},
   "outputs": [],
   "source": [
    "driver6=webdriver.Chrome(r\"C:\\webdriver\\chromedriver.exe\")"
   ]
  },
  {
   "cell_type": "code",
   "execution_count": 414,
   "id": "41a15717",
   "metadata": {},
   "outputs": [
    {
     "ename": "WebDriverException",
     "evalue": "Message: chrome not reachable\n  (Session info: chrome=101.0.4951.64)\nStacktrace:\nBacktrace:\n\tOrdinal0 [0x00BBB8F3+2406643]\n\tOrdinal0 [0x00B4AF31+1945393]\n\tOrdinal0 [0x00A3C610+837136]\n\tOrdinal0 [0x00A30442+787522]\n\tOrdinal0 [0x00A30C78+789624]\n\tOrdinal0 [0x00A324B2+795826]\n\tOrdinal0 [0x00A2BF09+769801]\n\tOrdinal0 [0x00A3DAC0+842432]\n\tOrdinal0 [0x00A93E62+1195618]\n\tOrdinal0 [0x00A84096+1130646]\n\tOrdinal0 [0x00A5E636+976438]\n\tOrdinal0 [0x00A5F546+980294]\n\tGetHandleVerifier [0x00E29612+2498066]\n\tGetHandleVerifier [0x00E1C920+2445600]\n\tGetHandleVerifier [0x00C54F2A+579370]\n\tGetHandleVerifier [0x00C53D36+574774]\n\tOrdinal0 [0x00B51C0B+1973259]\n\tOrdinal0 [0x00B56688+1992328]\n\tOrdinal0 [0x00B56775+1992565]\n\tOrdinal0 [0x00B5F8D1+2029777]\n\tBaseThreadInitThunk [0x76076739+25]\n\tRtlGetFullPathName_UEx [0x77608E7F+1215]\n\tRtlGetFullPathName_UEx [0x77608E4D+1165]\n",
     "output_type": "error",
     "traceback": [
      "\u001b[1;31m---------------------------------------------------------------------------\u001b[0m",
      "\u001b[1;31mWebDriverException\u001b[0m                        Traceback (most recent call last)",
      "\u001b[1;32m<ipython-input-414-0acbbc0fb8aa>\u001b[0m in \u001b[0;36m<module>\u001b[1;34m\u001b[0m\n\u001b[1;32m----> 1\u001b[1;33m \u001b[0mdriver6\u001b[0m\u001b[1;33m.\u001b[0m\u001b[0mget\u001b[0m\u001b[1;33m(\u001b[0m\u001b[1;34m\"https://www.flipkart.com/\"\u001b[0m\u001b[1;33m)\u001b[0m\u001b[1;33m\u001b[0m\u001b[1;33m\u001b[0m\u001b[0m\n\u001b[0m",
      "\u001b[1;32mC:\\ProgramData\\Anaconda3\\lib\\site-packages\\selenium\\webdriver\\remote\\webdriver.py\u001b[0m in \u001b[0;36mget\u001b[1;34m(self, url)\u001b[0m\n\u001b[0;32m    440\u001b[0m         \u001b[0mLoads\u001b[0m \u001b[0ma\u001b[0m \u001b[0mweb\u001b[0m \u001b[0mpage\u001b[0m \u001b[1;32min\u001b[0m \u001b[0mthe\u001b[0m \u001b[0mcurrent\u001b[0m \u001b[0mbrowser\u001b[0m \u001b[0msession\u001b[0m\u001b[1;33m.\u001b[0m\u001b[1;33m\u001b[0m\u001b[1;33m\u001b[0m\u001b[0m\n\u001b[0;32m    441\u001b[0m         \"\"\"\n\u001b[1;32m--> 442\u001b[1;33m         \u001b[0mself\u001b[0m\u001b[1;33m.\u001b[0m\u001b[0mexecute\u001b[0m\u001b[1;33m(\u001b[0m\u001b[0mCommand\u001b[0m\u001b[1;33m.\u001b[0m\u001b[0mGET\u001b[0m\u001b[1;33m,\u001b[0m \u001b[1;33m{\u001b[0m\u001b[1;34m'url'\u001b[0m\u001b[1;33m:\u001b[0m \u001b[0murl\u001b[0m\u001b[1;33m}\u001b[0m\u001b[1;33m)\u001b[0m\u001b[1;33m\u001b[0m\u001b[1;33m\u001b[0m\u001b[0m\n\u001b[0m\u001b[0;32m    443\u001b[0m \u001b[1;33m\u001b[0m\u001b[0m\n\u001b[0;32m    444\u001b[0m     \u001b[1;33m@\u001b[0m\u001b[0mproperty\u001b[0m\u001b[1;33m\u001b[0m\u001b[1;33m\u001b[0m\u001b[0m\n",
      "\u001b[1;32mC:\\ProgramData\\Anaconda3\\lib\\site-packages\\selenium\\webdriver\\remote\\webdriver.py\u001b[0m in \u001b[0;36mexecute\u001b[1;34m(self, driver_command, params)\u001b[0m\n\u001b[0;32m    428\u001b[0m         \u001b[0mresponse\u001b[0m \u001b[1;33m=\u001b[0m \u001b[0mself\u001b[0m\u001b[1;33m.\u001b[0m\u001b[0mcommand_executor\u001b[0m\u001b[1;33m.\u001b[0m\u001b[0mexecute\u001b[0m\u001b[1;33m(\u001b[0m\u001b[0mdriver_command\u001b[0m\u001b[1;33m,\u001b[0m \u001b[0mparams\u001b[0m\u001b[1;33m)\u001b[0m\u001b[1;33m\u001b[0m\u001b[1;33m\u001b[0m\u001b[0m\n\u001b[0;32m    429\u001b[0m         \u001b[1;32mif\u001b[0m \u001b[0mresponse\u001b[0m\u001b[1;33m:\u001b[0m\u001b[1;33m\u001b[0m\u001b[1;33m\u001b[0m\u001b[0m\n\u001b[1;32m--> 430\u001b[1;33m             \u001b[0mself\u001b[0m\u001b[1;33m.\u001b[0m\u001b[0merror_handler\u001b[0m\u001b[1;33m.\u001b[0m\u001b[0mcheck_response\u001b[0m\u001b[1;33m(\u001b[0m\u001b[0mresponse\u001b[0m\u001b[1;33m)\u001b[0m\u001b[1;33m\u001b[0m\u001b[1;33m\u001b[0m\u001b[0m\n\u001b[0m\u001b[0;32m    431\u001b[0m             response['value'] = self._unwrap_value(\n\u001b[0;32m    432\u001b[0m                 response.get('value', None))\n",
      "\u001b[1;32mC:\\ProgramData\\Anaconda3\\lib\\site-packages\\selenium\\webdriver\\remote\\errorhandler.py\u001b[0m in \u001b[0;36mcheck_response\u001b[1;34m(self, response)\u001b[0m\n\u001b[0;32m    245\u001b[0m                 \u001b[0malert_text\u001b[0m \u001b[1;33m=\u001b[0m \u001b[0mvalue\u001b[0m\u001b[1;33m[\u001b[0m\u001b[1;34m'alert'\u001b[0m\u001b[1;33m]\u001b[0m\u001b[1;33m.\u001b[0m\u001b[0mget\u001b[0m\u001b[1;33m(\u001b[0m\u001b[1;34m'text'\u001b[0m\u001b[1;33m)\u001b[0m\u001b[1;33m\u001b[0m\u001b[1;33m\u001b[0m\u001b[0m\n\u001b[0;32m    246\u001b[0m             \u001b[1;32mraise\u001b[0m \u001b[0mexception_class\u001b[0m\u001b[1;33m(\u001b[0m\u001b[0mmessage\u001b[0m\u001b[1;33m,\u001b[0m \u001b[0mscreen\u001b[0m\u001b[1;33m,\u001b[0m \u001b[0mstacktrace\u001b[0m\u001b[1;33m,\u001b[0m \u001b[0malert_text\u001b[0m\u001b[1;33m)\u001b[0m  \u001b[1;31m# type: ignore[call-arg]  # mypy is not smart enough here\u001b[0m\u001b[1;33m\u001b[0m\u001b[1;33m\u001b[0m\u001b[0m\n\u001b[1;32m--> 247\u001b[1;33m         \u001b[1;32mraise\u001b[0m \u001b[0mexception_class\u001b[0m\u001b[1;33m(\u001b[0m\u001b[0mmessage\u001b[0m\u001b[1;33m,\u001b[0m \u001b[0mscreen\u001b[0m\u001b[1;33m,\u001b[0m \u001b[0mstacktrace\u001b[0m\u001b[1;33m)\u001b[0m\u001b[1;33m\u001b[0m\u001b[1;33m\u001b[0m\u001b[0m\n\u001b[0m\u001b[0;32m    248\u001b[0m \u001b[1;33m\u001b[0m\u001b[0m\n\u001b[0;32m    249\u001b[0m     \u001b[1;32mdef\u001b[0m \u001b[0m_value_or_default\u001b[0m\u001b[1;33m(\u001b[0m\u001b[0mself\u001b[0m\u001b[1;33m,\u001b[0m \u001b[0mobj\u001b[0m\u001b[1;33m:\u001b[0m \u001b[0mMapping\u001b[0m\u001b[1;33m[\u001b[0m\u001b[0m_KT\u001b[0m\u001b[1;33m,\u001b[0m \u001b[0m_VT\u001b[0m\u001b[1;33m]\u001b[0m\u001b[1;33m,\u001b[0m \u001b[0mkey\u001b[0m\u001b[1;33m:\u001b[0m \u001b[0m_KT\u001b[0m\u001b[1;33m,\u001b[0m \u001b[0mdefault\u001b[0m\u001b[1;33m:\u001b[0m \u001b[0m_VT\u001b[0m\u001b[1;33m)\u001b[0m \u001b[1;33m->\u001b[0m \u001b[0m_VT\u001b[0m\u001b[1;33m:\u001b[0m\u001b[1;33m\u001b[0m\u001b[1;33m\u001b[0m\u001b[0m\n",
      "\u001b[1;31mWebDriverException\u001b[0m: Message: chrome not reachable\n  (Session info: chrome=101.0.4951.64)\nStacktrace:\nBacktrace:\n\tOrdinal0 [0x00BBB8F3+2406643]\n\tOrdinal0 [0x00B4AF31+1945393]\n\tOrdinal0 [0x00A3C610+837136]\n\tOrdinal0 [0x00A30442+787522]\n\tOrdinal0 [0x00A30C78+789624]\n\tOrdinal0 [0x00A324B2+795826]\n\tOrdinal0 [0x00A2BF09+769801]\n\tOrdinal0 [0x00A3DAC0+842432]\n\tOrdinal0 [0x00A93E62+1195618]\n\tOrdinal0 [0x00A84096+1130646]\n\tOrdinal0 [0x00A5E636+976438]\n\tOrdinal0 [0x00A5F546+980294]\n\tGetHandleVerifier [0x00E29612+2498066]\n\tGetHandleVerifier [0x00E1C920+2445600]\n\tGetHandleVerifier [0x00C54F2A+579370]\n\tGetHandleVerifier [0x00C53D36+574774]\n\tOrdinal0 [0x00B51C0B+1973259]\n\tOrdinal0 [0x00B56688+1992328]\n\tOrdinal0 [0x00B56775+1992565]\n\tOrdinal0 [0x00B5F8D1+2029777]\n\tBaseThreadInitThunk [0x76076739+25]\n\tRtlGetFullPathName_UEx [0x77608E7F+1215]\n\tRtlGetFullPathName_UEx [0x77608E4D+1165]\n"
     ]
    }
   ],
   "source": [
    "driver6.get(\"https://www.flipkart.com/\")"
   ]
  },
  {
   "cell_type": "code",
   "execution_count": 404,
   "id": "0933124f",
   "metadata": {},
   "outputs": [],
   "source": [
    "popup=driver6.find_element_by_xpath('/html/body/div[2]/div/div/button')"
   ]
  },
  {
   "cell_type": "code",
   "execution_count": 405,
   "id": "706cfbf6",
   "metadata": {},
   "outputs": [],
   "source": [
    "popup.click()"
   ]
  },
  {
   "cell_type": "code",
   "execution_count": 407,
   "id": "d91ab891",
   "metadata": {},
   "outputs": [],
   "source": [
    "search_field_item=driver6.find_element_by_class_name(\"_3704LK\")"
   ]
  },
  {
   "cell_type": "code",
   "execution_count": 408,
   "id": "b493f21f",
   "metadata": {},
   "outputs": [],
   "source": [
    "search_field_item.send_keys('sneakers')"
   ]
  },
  {
   "cell_type": "code",
   "execution_count": 409,
   "id": "6b8ce4c5",
   "metadata": {},
   "outputs": [],
   "source": [
    "search_icon=driver6.find_element_by_class_name(\"L0Z3Pu\")"
   ]
  },
  {
   "cell_type": "code",
   "execution_count": 410,
   "id": "bae63e14",
   "metadata": {},
   "outputs": [],
   "source": [
    "search_icon.click()"
   ]
  },
  {
   "cell_type": "code",
   "execution_count": 411,
   "id": "0cc11dcf",
   "metadata": {},
   "outputs": [],
   "source": [
    "nextbutton=driver6.find_element_by_xpath('/html/body/div[1]/div/div[3]/div[1]/div[2]/div[12]/div/div/nav/a[11]')\n",
    "brand_name=[]\n",
    "description=[]\n",
    "discount=[]\n",
    "price=[]\n",
    "j=1\n",
    "for k in [1,2,3]:\n",
    "    brand_tag=driver6.find_elements_by_xpath(\"//div[@class='_2WkVRV']\")\n",
    "    product_desc=driver6.find_elements_by_xpath(\"//a[@class='IRpwTa']\")\n",
    "    discount_tag=driver6.find_elements_by_xpath(\"//div[@class='_3Ay6Sb']\")\n",
    "    price_tag=driver6.find_elements_by_xpath(\"//div[@class='_30jeq3']\")\n",
    "    \n",
    "    for i in brand_tag:\n",
    "        brand_name.append(i.text)\n",
    "    \n",
    "    for i in product_desc:\n",
    "        description.append(i.text)\n",
    "    for i in price_tag:\n",
    "        price.append(i.text)\n",
    "    for i in discount_tag:\n",
    "        discount.append(i.text)\n",
    "    \n",
    "    \n",
    "    nextbutton.click()\n",
    "    time.sleep(5)\n",
    "    nextbutton=driver6.find_element_by_xpath('/html/body/div[1]/div/div[3]/div[1]/div[2]/div[12]/div/div/nav/a[12]')"
   ]
  },
  {
   "cell_type": "code",
   "execution_count": 412,
   "id": "ac3aa53d",
   "metadata": {},
   "outputs": [],
   "source": [
    "product_details=pd.DataFrame({'Brand':brand_name[0:100],'Product_Description':description[0:100],'Price':price[0:100],'Discount':discount[0:100]})\n",
    "product_details.index +=1"
   ]
  },
  {
   "cell_type": "code",
   "execution_count": 413,
   "id": "322d22ce",
   "metadata": {},
   "outputs": [
    {
     "data": {
      "text/html": [
       "<div>\n",
       "<style scoped>\n",
       "    .dataframe tbody tr th:only-of-type {\n",
       "        vertical-align: middle;\n",
       "    }\n",
       "\n",
       "    .dataframe tbody tr th {\n",
       "        vertical-align: top;\n",
       "    }\n",
       "\n",
       "    .dataframe thead th {\n",
       "        text-align: right;\n",
       "    }\n",
       "</style>\n",
       "<table border=\"1\" class=\"dataframe\">\n",
       "  <thead>\n",
       "    <tr style=\"text-align: right;\">\n",
       "      <th></th>\n",
       "      <th>Brand</th>\n",
       "      <th>Product_Description</th>\n",
       "      <th>Price</th>\n",
       "      <th>Discount</th>\n",
       "    </tr>\n",
       "  </thead>\n",
       "  <tbody>\n",
       "    <tr>\n",
       "      <th>1</th>\n",
       "      <td>aadi</td>\n",
       "      <td>Sneakers For Men</td>\n",
       "      <td>₹322</td>\n",
       "      <td>67% off</td>\n",
       "    </tr>\n",
       "    <tr>\n",
       "      <th>2</th>\n",
       "      <td>RapidBox</td>\n",
       "      <td>Modern Trendy Sneakers Shoes Sneakers For Men</td>\n",
       "      <td>₹720</td>\n",
       "      <td>27% off</td>\n",
       "    </tr>\n",
       "    <tr>\n",
       "      <th>3</th>\n",
       "      <td>URBANBOX</td>\n",
       "      <td>STYLISH MENS BLACK SNEAKER Sneakers For Men</td>\n",
       "      <td>₹198</td>\n",
       "      <td>80% off</td>\n",
       "    </tr>\n",
       "    <tr>\n",
       "      <th>4</th>\n",
       "      <td>BRUTON</td>\n",
       "      <td>Sneakers For Men</td>\n",
       "      <td>₹295</td>\n",
       "      <td>77% off</td>\n",
       "    </tr>\n",
       "    <tr>\n",
       "      <th>5</th>\n",
       "      <td>corsac</td>\n",
       "      <td>Stylish Comfortable Lightweight, Breathable Wa...</td>\n",
       "      <td>₹499</td>\n",
       "      <td>66% off</td>\n",
       "    </tr>\n",
       "    <tr>\n",
       "      <th>...</th>\n",
       "      <td>...</td>\n",
       "      <td>...</td>\n",
       "      <td>...</td>\n",
       "      <td>...</td>\n",
       "    </tr>\n",
       "    <tr>\n",
       "      <th>96</th>\n",
       "      <td>LuvShus</td>\n",
       "      <td>Sneakers For Men</td>\n",
       "      <td>₹413</td>\n",
       "      <td>78% off</td>\n",
       "    </tr>\n",
       "    <tr>\n",
       "      <th>97</th>\n",
       "      <td>Noztile</td>\n",
       "      <td>Sneakers For Men</td>\n",
       "      <td>₹428</td>\n",
       "      <td>50% off</td>\n",
       "    </tr>\n",
       "    <tr>\n",
       "      <th>98</th>\n",
       "      <td>bluemaker</td>\n",
       "      <td>Sneakers For Men</td>\n",
       "      <td>₹499</td>\n",
       "      <td>37% off</td>\n",
       "    </tr>\n",
       "    <tr>\n",
       "      <th>99</th>\n",
       "      <td>Roadster</td>\n",
       "      <td>Stylish Comfortable Lightweight, Breathable Wa...</td>\n",
       "      <td>₹1,799</td>\n",
       "      <td>50% off</td>\n",
       "    </tr>\n",
       "    <tr>\n",
       "      <th>100</th>\n",
       "      <td>LE GREEM</td>\n",
       "      <td>Classy Sneakers For Men</td>\n",
       "      <td>₹499</td>\n",
       "      <td>50% off</td>\n",
       "    </tr>\n",
       "  </tbody>\n",
       "</table>\n",
       "<p>100 rows × 4 columns</p>\n",
       "</div>"
      ],
      "text/plain": [
       "         Brand                                Product_Description   Price  \\\n",
       "1         aadi                                   Sneakers For Men    ₹322   \n",
       "2     RapidBox      Modern Trendy Sneakers Shoes Sneakers For Men    ₹720   \n",
       "3     URBANBOX        STYLISH MENS BLACK SNEAKER Sneakers For Men    ₹198   \n",
       "4       BRUTON                                   Sneakers For Men    ₹295   \n",
       "5       corsac  Stylish Comfortable Lightweight, Breathable Wa...    ₹499   \n",
       "..         ...                                                ...     ...   \n",
       "96     LuvShus                                   Sneakers For Men    ₹413   \n",
       "97     Noztile                                   Sneakers For Men    ₹428   \n",
       "98   bluemaker                                   Sneakers For Men    ₹499   \n",
       "99    Roadster  Stylish Comfortable Lightweight, Breathable Wa...  ₹1,799   \n",
       "100   LE GREEM                            Classy Sneakers For Men    ₹499   \n",
       "\n",
       "    Discount  \n",
       "1    67% off  \n",
       "2    27% off  \n",
       "3    80% off  \n",
       "4    77% off  \n",
       "5    66% off  \n",
       "..       ...  \n",
       "96   78% off  \n",
       "97   50% off  \n",
       "98   37% off  \n",
       "99   50% off  \n",
       "100  50% off  \n",
       "\n",
       "[100 rows x 4 columns]"
      ]
     },
     "execution_count": 413,
     "metadata": {},
     "output_type": "execute_result"
    }
   ],
   "source": [
    "product_details"
   ]
  },
  {
   "cell_type": "markdown",
   "id": "277f0341",
   "metadata": {},
   "source": [
    "# Question-7"
   ]
  },
  {
   "cell_type": "code",
   "execution_count": 547,
   "id": "a2a1c6dc",
   "metadata": {},
   "outputs": [],
   "source": [
    "driver7=webdriver.Chrome(r\"C:\\webdriver\\chromedriver.exe\")"
   ]
  },
  {
   "cell_type": "code",
   "execution_count": 548,
   "id": "31ff974d",
   "metadata": {},
   "outputs": [],
   "source": [
    "driver7.get(\"https://www.myntra.com/shoes\")"
   ]
  },
  {
   "cell_type": "code",
   "execution_count": 549,
   "id": "49376dda",
   "metadata": {},
   "outputs": [],
   "source": [
    "pricerange_checkbox=driver7.find_element_by_xpath('/html/body/div[2]/div/div[1]/main/div[3]/div[1]/section/div/div[5]/ul/li[2]/label/div')"
   ]
  },
  {
   "cell_type": "code",
   "execution_count": 550,
   "id": "800202a4",
   "metadata": {},
   "outputs": [],
   "source": [
    "pricerange_checkbox.click()"
   ]
  },
  {
   "cell_type": "code",
   "execution_count": 551,
   "id": "1f3b9c72",
   "metadata": {},
   "outputs": [],
   "source": [
    "blackcolor_checkbox=driver7.find_element_by_xpath('/html/body/div[2]/div/div[1]/main/div[3]/div[1]/section/div/div[6]/ul/li[1]/label/div')"
   ]
  },
  {
   "cell_type": "code",
   "execution_count": 552,
   "id": "652cbc69",
   "metadata": {},
   "outputs": [],
   "source": [
    "blackcolor_checkbox.click()"
   ]
  },
  {
   "cell_type": "code",
   "execution_count": 558,
   "id": "b641de66",
   "metadata": {},
   "outputs": [],
   "source": [
    "nextbutton=driver7.find_element_by_xpath('/html/body/div[2]/div/div[1]/main/div[3]/div[2]/div/div[2]/section/div[2]/ul/li[12]/a')\n",
    "brand_name=[]\n",
    "description=[]\n",
    "discount=[]\n",
    "price=[]\n",
    "j=1\n",
    "for k in [1,2]:\n",
    "    brand_tag=driver7.find_elements_by_xpath(\"//h3[@class='product-brand']\")\n",
    "    product_desc=driver7.find_elements_by_xpath(\"//h4[@class='product-product']\")\n",
    "    \n",
    "    price_tag=driver7.find_elements_by_xpath(\"//div[@class='product-price']\")\n",
    "    \n",
    "    for i in brand_tag:\n",
    "        brand_name.append(i.text)\n",
    "    \n",
    "    for i in product_desc:\n",
    "        description.append(i.text)\n",
    "    \n",
    "    for i in price_tag:\n",
    "        discountedpricetag=i.find_elements_by_class_name('product-discountedPrice')\n",
    "        if len(discountedpricetag)>0:\n",
    "            price.append(i.find_element_by_class_name('product-discountedPrice').text)\n",
    "        else:\n",
    "            price.append(i.text)\n",
    "        \n",
    "   \n",
    "    \n",
    "    \n",
    "    nextbutton.click()\n",
    "    time.sleep(3)\n",
    "    nextbutton=driver7.find_element_by_xpath('/html/body/div[2]/div/div[1]/main/div[3]/div[2]/div/div[2]/section/div[2]/ul/li[13]/a')"
   ]
  },
  {
   "cell_type": "code",
   "execution_count": 559,
   "id": "982aaac2",
   "metadata": {},
   "outputs": [
    {
     "data": {
      "text/plain": [
       "100"
      ]
     },
     "execution_count": 559,
     "metadata": {},
     "output_type": "execute_result"
    }
   ],
   "source": [
    "len(brand_name)"
   ]
  },
  {
   "cell_type": "code",
   "execution_count": 560,
   "id": "461f9504",
   "metadata": {},
   "outputs": [
    {
     "data": {
      "text/plain": [
       "100"
      ]
     },
     "execution_count": 560,
     "metadata": {},
     "output_type": "execute_result"
    }
   ],
   "source": [
    "len(description)"
   ]
  },
  {
   "cell_type": "code",
   "execution_count": 561,
   "id": "ffe8dc8d",
   "metadata": {},
   "outputs": [
    {
     "data": {
      "text/plain": [
       "100"
      ]
     },
     "execution_count": 561,
     "metadata": {},
     "output_type": "execute_result"
    }
   ],
   "source": [
    "len(price)"
   ]
  },
  {
   "cell_type": "code",
   "execution_count": 562,
   "id": "f6b2be20",
   "metadata": {},
   "outputs": [],
   "source": [
    "product_details=pd.DataFrame({'Brand':brand_name,'Product_Description':description,'Price':price})\n",
    "product_details.index +=1"
   ]
  },
  {
   "cell_type": "code",
   "execution_count": 563,
   "id": "69ad50eb",
   "metadata": {},
   "outputs": [
    {
     "data": {
      "text/html": [
       "<div>\n",
       "<style scoped>\n",
       "    .dataframe tbody tr th:only-of-type {\n",
       "        vertical-align: middle;\n",
       "    }\n",
       "\n",
       "    .dataframe tbody tr th {\n",
       "        vertical-align: top;\n",
       "    }\n",
       "\n",
       "    .dataframe thead th {\n",
       "        text-align: right;\n",
       "    }\n",
       "</style>\n",
       "<table border=\"1\" class=\"dataframe\">\n",
       "  <thead>\n",
       "    <tr style=\"text-align: right;\">\n",
       "      <th></th>\n",
       "      <th>Brand</th>\n",
       "      <th>Product_Description</th>\n",
       "      <th>Price</th>\n",
       "    </tr>\n",
       "  </thead>\n",
       "  <tbody>\n",
       "    <tr>\n",
       "      <th>1</th>\n",
       "      <td>ADIDAS</td>\n",
       "      <td>Men Solar Glide 5 Running Shoe</td>\n",
       "      <td>Rs. 13999</td>\n",
       "    </tr>\n",
       "    <tr>\n",
       "      <th>2</th>\n",
       "      <td>Clarks</td>\n",
       "      <td>Men Leather Derbys</td>\n",
       "      <td>Rs. 9999</td>\n",
       "    </tr>\n",
       "    <tr>\n",
       "      <th>3</th>\n",
       "      <td>J.FONTINI</td>\n",
       "      <td>Men Solid Loafers</td>\n",
       "      <td>Rs. 8990</td>\n",
       "    </tr>\n",
       "    <tr>\n",
       "      <th>4</th>\n",
       "      <td>DAVINCHI</td>\n",
       "      <td>Ustraa black</td>\n",
       "      <td>Rs. 8990</td>\n",
       "    </tr>\n",
       "    <tr>\n",
       "      <th>5</th>\n",
       "      <td>DAVINCHI</td>\n",
       "      <td>Men Textured Formal Leather Loafers</td>\n",
       "      <td>Rs. 8990</td>\n",
       "    </tr>\n",
       "    <tr>\n",
       "      <th>...</th>\n",
       "      <td>...</td>\n",
       "      <td>...</td>\n",
       "      <td>...</td>\n",
       "    </tr>\n",
       "    <tr>\n",
       "      <th>96</th>\n",
       "      <td>ADIDAS</td>\n",
       "      <td>Women Supernova + Running</td>\n",
       "      <td>Rs. 8999</td>\n",
       "    </tr>\n",
       "    <tr>\n",
       "      <th>97</th>\n",
       "      <td>Birkenstock</td>\n",
       "      <td>Women Gizeh T-Strap Flats</td>\n",
       "      <td>Rs. 8990</td>\n",
       "    </tr>\n",
       "    <tr>\n",
       "      <th>98</th>\n",
       "      <td>Cobblerz</td>\n",
       "      <td>Men Textured Leather Loafers</td>\n",
       "      <td>Rs. 10349</td>\n",
       "    </tr>\n",
       "    <tr>\n",
       "      <th>99</th>\n",
       "      <td>Kenkoh</td>\n",
       "      <td>Leather Open Toe Flats</td>\n",
       "      <td>Rs. 9850</td>\n",
       "    </tr>\n",
       "    <tr>\n",
       "      <th>100</th>\n",
       "      <td>ROSSO BRUNELLO</td>\n",
       "      <td>Men Solid Leather Formal Derbys</td>\n",
       "      <td>Rs. 8499</td>\n",
       "    </tr>\n",
       "  </tbody>\n",
       "</table>\n",
       "<p>100 rows × 3 columns</p>\n",
       "</div>"
      ],
      "text/plain": [
       "              Brand                  Product_Description      Price\n",
       "1            ADIDAS       Men Solar Glide 5 Running Shoe  Rs. 13999\n",
       "2            Clarks                   Men Leather Derbys   Rs. 9999\n",
       "3         J.FONTINI                    Men Solid Loafers   Rs. 8990\n",
       "4          DAVINCHI                         Ustraa black   Rs. 8990\n",
       "5          DAVINCHI  Men Textured Formal Leather Loafers   Rs. 8990\n",
       "..              ...                                  ...        ...\n",
       "96           ADIDAS            Women Supernova + Running   Rs. 8999\n",
       "97      Birkenstock            Women Gizeh T-Strap Flats   Rs. 8990\n",
       "98         Cobblerz         Men Textured Leather Loafers  Rs. 10349\n",
       "99           Kenkoh               Leather Open Toe Flats   Rs. 9850\n",
       "100  ROSSO BRUNELLO      Men Solid Leather Formal Derbys   Rs. 8499\n",
       "\n",
       "[100 rows x 3 columns]"
      ]
     },
     "execution_count": 563,
     "metadata": {},
     "output_type": "execute_result"
    }
   ],
   "source": [
    "product_details"
   ]
  },
  {
   "cell_type": "code",
   "execution_count": 564,
   "id": "1e856195",
   "metadata": {},
   "outputs": [],
   "source": [
    "driver7.close()"
   ]
  },
  {
   "cell_type": "markdown",
   "id": "2cce57b6",
   "metadata": {},
   "source": [
    "# Question-5"
   ]
  },
  {
   "cell_type": "code",
   "execution_count": 605,
   "id": "7f19ad50",
   "metadata": {},
   "outputs": [],
   "source": [
    "driver5=webdriver.Chrome(r\"C:\\webdriver\\chromedriver.exe\")"
   ]
  },
  {
   "cell_type": "code",
   "execution_count": 613,
   "id": "a18461b2",
   "metadata": {},
   "outputs": [],
   "source": [
    "driver5.get(\"https://www.flipkart.com/apple-iphone-11-black-64-gb-includes-earpods-power-adapter/product-reviews/itm0f37c2240b217?pid=MOBFKCTSVZAXUHGR&lid=LSTMOBFKCTSVZAXUHGREPBFGI&marketplace=FLIPKART\")"
   ]
  },
  {
   "cell_type": "code",
   "execution_count": 614,
   "id": "6929df08",
   "metadata": {},
   "outputs": [
    {
     "data": {
      "text/html": [
       "<div>\n",
       "<style scoped>\n",
       "    .dataframe tbody tr th:only-of-type {\n",
       "        vertical-align: middle;\n",
       "    }\n",
       "\n",
       "    .dataframe tbody tr th {\n",
       "        vertical-align: top;\n",
       "    }\n",
       "\n",
       "    .dataframe thead th {\n",
       "        text-align: right;\n",
       "    }\n",
       "</style>\n",
       "<table border=\"1\" class=\"dataframe\">\n",
       "  <thead>\n",
       "    <tr style=\"text-align: right;\">\n",
       "      <th></th>\n",
       "      <th>Summary_Review</th>\n",
       "      <th>Full_Review</th>\n",
       "      <th>Rating</th>\n",
       "    </tr>\n",
       "  </thead>\n",
       "  <tbody>\n",
       "    <tr>\n",
       "      <th>1</th>\n",
       "      <td>Brilliant</td>\n",
       "      <td>The Best Phone for the Money\\n\\nThe iPhone 11 ...</td>\n",
       "      <td>5</td>\n",
       "    </tr>\n",
       "    <tr>\n",
       "      <th>2</th>\n",
       "      <td>Simply awesome</td>\n",
       "      <td>Really satisfied with the Product I received.....</td>\n",
       "      <td>5</td>\n",
       "    </tr>\n",
       "    <tr>\n",
       "      <th>3</th>\n",
       "      <td>Best in the market!</td>\n",
       "      <td>Great iPhone very snappy experience as apple k...</td>\n",
       "      <td>5</td>\n",
       "    </tr>\n",
       "    <tr>\n",
       "      <th>4</th>\n",
       "      <td>Perfect product!</td>\n",
       "      <td>Amazing phone with great cameras and better ba...</td>\n",
       "      <td>5</td>\n",
       "    </tr>\n",
       "    <tr>\n",
       "      <th>5</th>\n",
       "      <td>Fabulous!</td>\n",
       "      <td>This is my first iOS phone. I am very happy wi...</td>\n",
       "      <td>5</td>\n",
       "    </tr>\n",
       "    <tr>\n",
       "      <th>...</th>\n",
       "      <td>...</td>\n",
       "      <td>...</td>\n",
       "      <td>...</td>\n",
       "    </tr>\n",
       "    <tr>\n",
       "      <th>96</th>\n",
       "      <td>Brilliant</td>\n",
       "      <td>Amazing phone and on great deal I received wit...</td>\n",
       "      <td>5</td>\n",
       "    </tr>\n",
       "    <tr>\n",
       "      <th>97</th>\n",
       "      <td>Terrific purchase</td>\n",
       "      <td>finally an iPhone with very nice battery backu...</td>\n",
       "      <td>5</td>\n",
       "    </tr>\n",
       "    <tr>\n",
       "      <th>98</th>\n",
       "      <td>Good quality product</td>\n",
       "      <td>I'm switching this phone to oppo reno 10x zoom...</td>\n",
       "      <td>4</td>\n",
       "    </tr>\n",
       "    <tr>\n",
       "      <th>99</th>\n",
       "      <td>Terrific</td>\n",
       "      <td>Simply Awesome\\n\\nI have upgraded from iPhone ...</td>\n",
       "      <td>5</td>\n",
       "    </tr>\n",
       "    <tr>\n",
       "      <th>100</th>\n",
       "      <td>Best in the market!</td>\n",
       "      <td>Damn this phone is a blast . Upgraded from and...</td>\n",
       "      <td>5</td>\n",
       "    </tr>\n",
       "  </tbody>\n",
       "</table>\n",
       "<p>100 rows × 3 columns</p>\n",
       "</div>"
      ],
      "text/plain": [
       "           Summary_Review                                        Full_Review  \\\n",
       "1               Brilliant  The Best Phone for the Money\\n\\nThe iPhone 11 ...   \n",
       "2          Simply awesome  Really satisfied with the Product I received.....   \n",
       "3     Best in the market!  Great iPhone very snappy experience as apple k...   \n",
       "4        Perfect product!  Amazing phone with great cameras and better ba...   \n",
       "5               Fabulous!  This is my first iOS phone. I am very happy wi...   \n",
       "..                    ...                                                ...   \n",
       "96              Brilliant  Amazing phone and on great deal I received wit...   \n",
       "97      Terrific purchase  finally an iPhone with very nice battery backu...   \n",
       "98   Good quality product  I'm switching this phone to oppo reno 10x zoom...   \n",
       "99               Terrific  Simply Awesome\\n\\nI have upgraded from iPhone ...   \n",
       "100   Best in the market!  Damn this phone is a blast . Upgraded from and...   \n",
       "\n",
       "    Rating  \n",
       "1        5  \n",
       "2        5  \n",
       "3        5  \n",
       "4        5  \n",
       "5        5  \n",
       "..     ...  \n",
       "96       5  \n",
       "97       5  \n",
       "98       4  \n",
       "99       5  \n",
       "100      5  \n",
       "\n",
       "[100 rows x 3 columns]"
      ]
     },
     "execution_count": 614,
     "metadata": {},
     "output_type": "execute_result"
    }
   ],
   "source": [
    "nextbutton=driver5.find_element_by_xpath('/html/body/div/div/div[3]/div/div/div[2]/div[13]/div/div/nav/a[11]')\n",
    "rating=[]\n",
    "review_summary=[]\n",
    "full_review=[]\n",
    "\n",
    "for k in range(1,11):\n",
    "    rating_tag=driver5.find_elements_by_class_name('_1BLPMq')\n",
    "    summary_tag=driver5.find_elements_by_xpath(\"//p[@class='_2-N8zT']\")\n",
    "    \n",
    "    fullreview_tag=driver5.find_elements_by_xpath(\"//div[@class='t-ZTKy']\")\n",
    "    \n",
    "    for i in  rating_tag:\n",
    "        rating.append(i.text)\n",
    "    \n",
    "    for i in summary_tag:\n",
    "        review_summary.append(i.text)\n",
    "\n",
    "    for i in fullreview_tag:\n",
    "        full_review.append(i.text)  \n",
    "    time.sleep(5)\n",
    "    nextbutton.click()\n",
    "    time.sleep(5)\n",
    "    nextbutton=driver5.find_element_by_xpath('/html/body/div/div/div[3]/div/div/div[2]/div[13]/div/div/nav/a[12]')\n",
    "                                              \n",
    "review_details=pd.DataFrame({'Summary_Review':review_summary,'Full_Review':full_review,'Rating':rating})\n",
    "review_details.index +=1\n",
    "review_details"
   ]
  },
  {
   "cell_type": "markdown",
   "id": "86b5b35f",
   "metadata": {},
   "source": [
    "# Question-8"
   ]
  },
  {
   "cell_type": "code",
   "execution_count": 321,
   "id": "85eb2f6c",
   "metadata": {},
   "outputs": [],
   "source": [
    "driver8=webdriver.Chrome(r\"C:\\webdriver\\chromedriver.exe\")"
   ]
  },
  {
   "cell_type": "code",
   "execution_count": 322,
   "id": "5cc16421",
   "metadata": {},
   "outputs": [],
   "source": [
    "driver8.get('https://www.amazon.in/')"
   ]
  },
  {
   "cell_type": "code",
   "execution_count": 323,
   "id": "b7959b7c",
   "metadata": {},
   "outputs": [],
   "source": [
    "search_field=driver8.find_element_by_xpath('/html/body/div[1]/header/div/div[1]/div[2]/div/form/div[2]/div[1]/input')"
   ]
  },
  {
   "cell_type": "code",
   "execution_count": 324,
   "id": "696b43a0",
   "metadata": {},
   "outputs": [],
   "source": [
    "search_field.send_keys('Laptop')"
   ]
  },
  {
   "cell_type": "code",
   "execution_count": 325,
   "id": "70b2a63e",
   "metadata": {},
   "outputs": [],
   "source": [
    "search_icon=driver8.find_element_by_xpath('/html/body/div[1]/header/div/div[1]/div[2]/div/form/div[3]/div/span/input')"
   ]
  },
  {
   "cell_type": "code",
   "execution_count": 326,
   "id": "4216f7e0",
   "metadata": {},
   "outputs": [],
   "source": [
    "search_icon.click()"
   ]
  },
  {
   "cell_type": "code",
   "execution_count": 327,
   "id": "27509a7d",
   "metadata": {},
   "outputs": [],
   "source": [
    "i9_tag=driver8.find_element_by_xpath('/html/body/div[1]/div[2]/div[1]/div[2]/div/div[3]/span/div[1]/div/div/div[6]/ul[4]/li[12]/span/a')"
   ]
  },
  {
   "cell_type": "code",
   "execution_count": 328,
   "id": "91d6dcc4",
   "metadata": {},
   "outputs": [],
   "source": [
    "i9_tag.click()"
   ]
  },
  {
   "cell_type": "code",
   "execution_count": 338,
   "id": "d77dc61b",
   "metadata": {},
   "outputs": [
    {
     "data": {
      "text/html": [
       "<div>\n",
       "<style scoped>\n",
       "    .dataframe tbody tr th:only-of-type {\n",
       "        vertical-align: middle;\n",
       "    }\n",
       "\n",
       "    .dataframe tbody tr th {\n",
       "        vertical-align: top;\n",
       "    }\n",
       "\n",
       "    .dataframe thead th {\n",
       "        text-align: right;\n",
       "    }\n",
       "</style>\n",
       "<table border=\"1\" class=\"dataframe\">\n",
       "  <thead>\n",
       "    <tr style=\"text-align: right;\">\n",
       "      <th></th>\n",
       "      <th>Title</th>\n",
       "      <th>Price</th>\n",
       "      <th>Rating</th>\n",
       "    </tr>\n",
       "  </thead>\n",
       "  <tbody>\n",
       "    <tr>\n",
       "      <th>1</th>\n",
       "      <td>Acer Predator Helios 300 11th Gen Intel Core i...</td>\n",
       "      <td>rs1,44,990</td>\n",
       "      <td>5.0 out of 5 stars</td>\n",
       "    </tr>\n",
       "    <tr>\n",
       "      <th>2</th>\n",
       "      <td>Acer Predator Helios 300 11th Gen Intel Core i...</td>\n",
       "      <td>rs1,44,990</td>\n",
       "      <td>5.0 out of 5 stars</td>\n",
       "    </tr>\n",
       "    <tr>\n",
       "      <th>3</th>\n",
       "      <td>ASUS ROG Zephyrus M16 (2022), 16-inch (40.64 c...</td>\n",
       "      <td>rs3,31,990</td>\n",
       "      <td>5.0 out of 5 stars</td>\n",
       "    </tr>\n",
       "    <tr>\n",
       "      <th>4</th>\n",
       "      <td>ASUS ROG Strix Scar 15 (2022), 15.6-inch (39.6...</td>\n",
       "      <td>rs2,85,390</td>\n",
       "      <td>No Rating</td>\n",
       "    </tr>\n",
       "    <tr>\n",
       "      <th>5</th>\n",
       "      <td>HP Envy 15- 11th Gen Intel Core i9/32GB/1TB SS...</td>\n",
       "      <td>No price</td>\n",
       "      <td>No Rating</td>\n",
       "    </tr>\n",
       "    <tr>\n",
       "      <th>6</th>\n",
       "      <td>Dell G7 7500 15.6inch FHD 300 Hz Display Gamin...</td>\n",
       "      <td>rs2,05,990</td>\n",
       "      <td>4.0 out of 5 stars</td>\n",
       "    </tr>\n",
       "    <tr>\n",
       "      <th>7</th>\n",
       "      <td>Predator Helios 500 Gaming Laptop (11th Gen In...</td>\n",
       "      <td>rs3,79,990</td>\n",
       "      <td>No Rating</td>\n",
       "    </tr>\n",
       "    <tr>\n",
       "      <th>8</th>\n",
       "      <td>MSI Gaming Stealth GS66, Intel 12th Gen. i9-12...</td>\n",
       "      <td>rs3,29,990</td>\n",
       "      <td>4.5 out of 5 stars</td>\n",
       "    </tr>\n",
       "    <tr>\n",
       "      <th>9</th>\n",
       "      <td>ASUS ROG Strix Scar 15 (2022), 15.6\" (39.62 cm...</td>\n",
       "      <td>rs2,32,374</td>\n",
       "      <td>No Rating</td>\n",
       "    </tr>\n",
       "    <tr>\n",
       "      <th>10</th>\n",
       "      <td>(Renewed) HP Omen 15-dh0139TX Gaming Laptop (9...</td>\n",
       "      <td>rs1,38,000</td>\n",
       "      <td>1.0 out of 5 stars</td>\n",
       "    </tr>\n",
       "    <tr>\n",
       "      <th>11</th>\n",
       "      <td>Dell Precision 5550 || i9 -10885H || 16GB || 1...</td>\n",
       "      <td>rs2,25,000</td>\n",
       "      <td>No Rating</td>\n",
       "    </tr>\n",
       "  </tbody>\n",
       "</table>\n",
       "</div>"
      ],
      "text/plain": [
       "                                                Title       Price  \\\n",
       "1   Acer Predator Helios 300 11th Gen Intel Core i...  rs1,44,990   \n",
       "2   Acer Predator Helios 300 11th Gen Intel Core i...  rs1,44,990   \n",
       "3   ASUS ROG Zephyrus M16 (2022), 16-inch (40.64 c...  rs3,31,990   \n",
       "4   ASUS ROG Strix Scar 15 (2022), 15.6-inch (39.6...  rs2,85,390   \n",
       "5   HP Envy 15- 11th Gen Intel Core i9/32GB/1TB SS...    No price   \n",
       "6   Dell G7 7500 15.6inch FHD 300 Hz Display Gamin...  rs2,05,990   \n",
       "7   Predator Helios 500 Gaming Laptop (11th Gen In...  rs3,79,990   \n",
       "8   MSI Gaming Stealth GS66, Intel 12th Gen. i9-12...  rs3,29,990   \n",
       "9   ASUS ROG Strix Scar 15 (2022), 15.6\" (39.62 cm...  rs2,32,374   \n",
       "10  (Renewed) HP Omen 15-dh0139TX Gaming Laptop (9...  rs1,38,000   \n",
       "11  Dell Precision 5550 || i9 -10885H || 16GB || 1...  rs2,25,000   \n",
       "\n",
       "                Rating  \n",
       "1   5.0 out of 5 stars  \n",
       "2   5.0 out of 5 stars  \n",
       "3   5.0 out of 5 stars  \n",
       "4            No Rating  \n",
       "5            No Rating  \n",
       "6   4.0 out of 5 stars  \n",
       "7            No Rating  \n",
       "8   4.5 out of 5 stars  \n",
       "9            No Rating  \n",
       "10  1.0 out of 5 stars  \n",
       "11           No Rating  "
      ]
     },
     "execution_count": 338,
     "metadata": {},
     "output_type": "execute_result"
    }
   ],
   "source": [
    "rating=[]\n",
    "title=[]\n",
    "price=[]\n",
    "title_tag1=driver8.find_elements_by_xpath(\"//span[@class='a-size-medium a-color-base a-text-normal']\")\n",
    "#rating_tag=driver8.find_elements_by_xpath(\"//a[@class='a-popover-trigger a-declarative']\")\n",
    "full_tag1=driver8.find_elements_by_xpath(\"//div[@class='a-section a-spacing-small a-spacing-top-small']\")\n",
    "full_tag1.pop(0)\n",
    "for i in title_tag1:\n",
    "    title.append(i.text)\n",
    "for i in full_tag1:\n",
    "    price_tag1=i.find_elements_by_class_name('a-price-whole')\n",
    "    if len(price_tag1)>0 :\n",
    "         for k in price_tag1:\n",
    "            price.append('₹'+k.text)\n",
    "    else:\n",
    "        price.append('No price')\n",
    "for i in full_tag1:\n",
    "    tag3=i.find_elements_by_class_name(\"a-size-small\")\n",
    "    if len(tag3)>0 :\n",
    "         for k in tag3:\n",
    "            rating.append(k.find_element_by_tag_name('span').get_attribute('aria-label'))\n",
    "    else:\n",
    "        rating.append('No Rating')\n",
    "product_details=pd.DataFrame({'Title':title[:10],'Price':price[:10],'Rating':rating[:10]})\n",
    "product_details.index +=1\n",
    "product_details\n"
   ]
  },
  {
   "cell_type": "code",
   "execution_count": 339,
   "id": "a88ee906",
   "metadata": {},
   "outputs": [],
   "source": [
    "driver8.close()"
   ]
  },
  {
   "cell_type": "code",
   "execution_count": 340,
   "id": "e4eec7da",
   "metadata": {},
   "outputs": [],
   "source": [
    "driver8=webdriver.Chrome(r\"C:\\webdriver\\chromedriver.exe\")"
   ]
  },
  {
   "cell_type": "code",
   "execution_count": 341,
   "id": "afa9b7d9",
   "metadata": {},
   "outputs": [],
   "source": [
    "driver8.get('https://www.amazon.in/')"
   ]
  },
  {
   "cell_type": "code",
   "execution_count": 342,
   "id": "c6c34a25",
   "metadata": {},
   "outputs": [],
   "source": [
    "search_field=driver8.find_element_by_xpath('/html/body/div[1]/header/div/div[1]/div[2]/div/form/div[2]/div[1]/input')"
   ]
  },
  {
   "cell_type": "code",
   "execution_count": 343,
   "id": "3533a881",
   "metadata": {},
   "outputs": [],
   "source": [
    "search_field.send_keys('Laptop')"
   ]
  },
  {
   "cell_type": "code",
   "execution_count": 344,
   "id": "84caead4",
   "metadata": {},
   "outputs": [],
   "source": [
    "search_icon=driver8.find_element_by_xpath('/html/body/div[1]/header/div/div[1]/div[2]/div/form/div[3]/div/span/input')"
   ]
  },
  {
   "cell_type": "code",
   "execution_count": 345,
   "id": "99596858",
   "metadata": {},
   "outputs": [],
   "source": [
    "search_icon.click()"
   ]
  },
  {
   "cell_type": "code",
   "execution_count": 346,
   "id": "36de7fac",
   "metadata": {},
   "outputs": [],
   "source": [
    "i7_tag=driver8.find_element_by_xpath('/html/body/div[1]/div[2]/div[1]/div[2]/div/div[3]/span/div[1]/div/div/div[6]/ul[4]/li[13]/span/a')"
   ]
  },
  {
   "cell_type": "code",
   "execution_count": 347,
   "id": "225e30ac",
   "metadata": {},
   "outputs": [],
   "source": [
    "i7_tag.click()"
   ]
  },
  {
   "cell_type": "code",
   "execution_count": 348,
   "id": "e28c4605",
   "metadata": {},
   "outputs": [
    {
     "data": {
      "text/html": [
       "<div>\n",
       "<style scoped>\n",
       "    .dataframe tbody tr th:only-of-type {\n",
       "        vertical-align: middle;\n",
       "    }\n",
       "\n",
       "    .dataframe tbody tr th {\n",
       "        vertical-align: top;\n",
       "    }\n",
       "\n",
       "    .dataframe thead th {\n",
       "        text-align: right;\n",
       "    }\n",
       "</style>\n",
       "<table border=\"1\" class=\"dataframe\">\n",
       "  <thead>\n",
       "    <tr style=\"text-align: right;\">\n",
       "      <th></th>\n",
       "      <th>Title</th>\n",
       "      <th>Price</th>\n",
       "      <th>Rating</th>\n",
       "    </tr>\n",
       "  </thead>\n",
       "  <tbody>\n",
       "    <tr>\n",
       "      <th>1</th>\n",
       "      <td>Acer Predator Helios 300 11th Gen Intel Core i...</td>\n",
       "      <td>₹1,69,990</td>\n",
       "      <td>5.0 out of 5 stars</td>\n",
       "    </tr>\n",
       "    <tr>\n",
       "      <th>2</th>\n",
       "      <td>Mi Notebook Horizon Edition 14 Intel Core i7-1...</td>\n",
       "      <td>₹58,999</td>\n",
       "      <td>4.2 out of 5 stars</td>\n",
       "    </tr>\n",
       "    <tr>\n",
       "      <th>3</th>\n",
       "      <td>Mi Notebook Ultra 3.2K Resolution Display Inte...</td>\n",
       "      <td>₹77,999</td>\n",
       "      <td>4.3 out of 5 stars</td>\n",
       "    </tr>\n",
       "    <tr>\n",
       "      <th>4</th>\n",
       "      <td>Lenovo ThinkBook 15 Intel 11th Gen Core i7 15....</td>\n",
       "      <td>₹86,990</td>\n",
       "      <td>4.4 out of 5 stars</td>\n",
       "    </tr>\n",
       "    <tr>\n",
       "      <th>5</th>\n",
       "      <td>ASUS VivoBook 14 (2021), 14-inch (35.56 cms) F...</td>\n",
       "      <td>₹57,490</td>\n",
       "      <td>4.5 out of 5 stars</td>\n",
       "    </tr>\n",
       "    <tr>\n",
       "      <th>6</th>\n",
       "      <td>HP Pavilion 14, 11th Gen Intel Core i7-16GB RA...</td>\n",
       "      <td>₹86,990</td>\n",
       "      <td>4.3 out of 5 stars</td>\n",
       "    </tr>\n",
       "    <tr>\n",
       "      <th>7</th>\n",
       "      <td>ASUS TUF Gaming F15 (2021), 15.6\" (39.62 cms) ...</td>\n",
       "      <td>₹89,990</td>\n",
       "      <td>4.6 out of 5 stars</td>\n",
       "    </tr>\n",
       "    <tr>\n",
       "      <th>8</th>\n",
       "      <td>Samsung Galaxy Book2 Intel 12th Gen core i7 Ev...</td>\n",
       "      <td>₹79,990</td>\n",
       "      <td>3.0 out of 5 stars</td>\n",
       "    </tr>\n",
       "    <tr>\n",
       "      <th>9</th>\n",
       "      <td>HP Pavilion x360 11th Gen Intel Core i7 14 inc...</td>\n",
       "      <td>₹85,890</td>\n",
       "      <td>4.0 out of 5 stars</td>\n",
       "    </tr>\n",
       "    <tr>\n",
       "      <th>10</th>\n",
       "      <td>Samsung Galaxy Book2 Pro Intel 12th Gen i7 Evo...</td>\n",
       "      <td>₹1,14,990</td>\n",
       "      <td>1.0 out of 5 stars</td>\n",
       "    </tr>\n",
       "    <tr>\n",
       "      <th>11</th>\n",
       "      <td>LG Gram Intel Evo 11th Gen Core i7 17 inches U...</td>\n",
       "      <td>₹93,999</td>\n",
       "      <td>4.5 out of 5 stars</td>\n",
       "    </tr>\n",
       "  </tbody>\n",
       "</table>\n",
       "</div>"
      ],
      "text/plain": [
       "                                                Title      Price  \\\n",
       "1   Acer Predator Helios 300 11th Gen Intel Core i...  ₹1,69,990   \n",
       "2   Mi Notebook Horizon Edition 14 Intel Core i7-1...    ₹58,999   \n",
       "3   Mi Notebook Ultra 3.2K Resolution Display Inte...    ₹77,999   \n",
       "4   Lenovo ThinkBook 15 Intel 11th Gen Core i7 15....    ₹86,990   \n",
       "5   ASUS VivoBook 14 (2021), 14-inch (35.56 cms) F...    ₹57,490   \n",
       "6   HP Pavilion 14, 11th Gen Intel Core i7-16GB RA...    ₹86,990   \n",
       "7   ASUS TUF Gaming F15 (2021), 15.6\" (39.62 cms) ...    ₹89,990   \n",
       "8   Samsung Galaxy Book2 Intel 12th Gen core i7 Ev...    ₹79,990   \n",
       "9   HP Pavilion x360 11th Gen Intel Core i7 14 inc...    ₹85,890   \n",
       "10  Samsung Galaxy Book2 Pro Intel 12th Gen i7 Evo...  ₹1,14,990   \n",
       "11  LG Gram Intel Evo 11th Gen Core i7 17 inches U...    ₹93,999   \n",
       "\n",
       "                Rating  \n",
       "1   5.0 out of 5 stars  \n",
       "2   4.2 out of 5 stars  \n",
       "3   4.3 out of 5 stars  \n",
       "4   4.4 out of 5 stars  \n",
       "5   4.5 out of 5 stars  \n",
       "6   4.3 out of 5 stars  \n",
       "7   4.6 out of 5 stars  \n",
       "8   3.0 out of 5 stars  \n",
       "9   4.0 out of 5 stars  \n",
       "10  1.0 out of 5 stars  \n",
       "11  4.5 out of 5 stars  "
      ]
     },
     "execution_count": 348,
     "metadata": {},
     "output_type": "execute_result"
    }
   ],
   "source": [
    "rating=[]\n",
    "title=[]\n",
    "price=[]\n",
    "title_tag2=driver8.find_elements_by_xpath(\"//span[@class='a-size-medium a-color-base a-text-normal']\")\n",
    "#rating_tag=driver8.find_elements_by_xpath(\"//a[@class='a-popover-trigger a-declarative']\")\n",
    "full_tag2=driver8.find_elements_by_xpath(\"//div[@class='a-section a-spacing-small a-spacing-top-small']\")\n",
    "full_tag2.pop(0)\n",
    "for i in title_tag2:\n",
    "    title.append(i.text)\n",
    "for i in full_tag2:\n",
    "    price_tag2=i.find_elements_by_class_name('a-price-whole')\n",
    "    if len(price_tag2)>0 :\n",
    "         for k in price_tag2:\n",
    "            price.append('₹'+k.text)\n",
    "    else:\n",
    "        price.append('No price')\n",
    "for i in full_tag2:\n",
    "    tag4=i.find_elements_by_class_name(\"a-size-small\")\n",
    "    if len(tag4)>0 :\n",
    "         for k in tag4:\n",
    "            rating.append(k.find_element_by_tag_name('span').get_attribute('aria-label'))\n",
    "    else:\n",
    "        rating.append('No Rating')\n",
    "product_details=pd.DataFrame({'Title':title[:10],'Price':price[:10],'Rating':rating[:10]})\n",
    "product_details.index +=1\n",
    "product_details\n"
   ]
  },
  {
   "cell_type": "code",
   "execution_count": 349,
   "id": "038b6d14",
   "metadata": {},
   "outputs": [],
   "source": [
    "driver8.close()"
   ]
  },
  {
   "cell_type": "markdown",
   "id": "d3518b37",
   "metadata": {},
   "source": [
    "# Question-9"
   ]
  },
  {
   "cell_type": "code",
   "execution_count": 357,
   "id": "26d78eb0",
   "metadata": {},
   "outputs": [],
   "source": [
    "driver9=webdriver.Chrome(r\"C:\\webdriver\\chromedriver.exe\")"
   ]
  },
  {
   "cell_type": "code",
   "execution_count": 358,
   "id": "6a07a96d",
   "metadata": {},
   "outputs": [],
   "source": [
    "driver9.get('https://www.ambitionbox.com/jobs')"
   ]
  },
  {
   "cell_type": "code",
   "execution_count": 360,
   "id": "5997471e",
   "metadata": {},
   "outputs": [],
   "source": [
    "search_field=driver9.find_element_by_xpath('/html/body/div/div/div/div[2]/div[1]/div[1]/div/div/div/div/span/input')"
   ]
  },
  {
   "cell_type": "code",
   "execution_count": 361,
   "id": "0ed95eab",
   "metadata": {},
   "outputs": [],
   "source": [
    "search_field.send_keys('Data Scientist')"
   ]
  },
  {
   "cell_type": "code",
   "execution_count": 362,
   "id": "b32901cc",
   "metadata": {},
   "outputs": [],
   "source": [
    "search_button=driver9.find_element_by_xpath('/html/body/div/div/div/div[2]/div[1]/div[1]/div/div/div/button')"
   ]
  },
  {
   "cell_type": "code",
   "execution_count": 363,
   "id": "aaa2175b",
   "metadata": {},
   "outputs": [],
   "source": [
    "search_button.click()"
   ]
  },
  {
   "cell_type": "code",
   "execution_count": 366,
   "id": "98635705",
   "metadata": {},
   "outputs": [],
   "source": [
    "location_button=driver9.find_element_by_xpath('/html/body/div/div/div/div[2]/div[1]/div[2]/div[1]/div/div/div/div[2]/div[1]/p')"
   ]
  },
  {
   "cell_type": "code",
   "execution_count": 367,
   "id": "23e019b2",
   "metadata": {},
   "outputs": [],
   "source": [
    "location_button.click()"
   ]
  },
  {
   "cell_type": "code",
   "execution_count": 368,
   "id": "f3d24495",
   "metadata": {},
   "outputs": [],
   "source": [
    "location_field=driver9.find_element_by_xpath('/html/body/div/div/div/div[2]/div[1]/div[2]/div[1]/div/div/div/div[2]/div[2]/div/div[2]/input')"
   ]
  },
  {
   "cell_type": "code",
   "execution_count": 369,
   "id": "85efe9cb",
   "metadata": {},
   "outputs": [],
   "source": [
    "location_field.send_keys('Noida')"
   ]
  },
  {
   "cell_type": "code",
   "execution_count": 370,
   "id": "a643c959",
   "metadata": {},
   "outputs": [],
   "source": [
    "noida_label=driver9.find_element_by_xpath('/html/body/div/div/div/div[2]/div[1]/div[2]/div[1]/div/div/div/div[2]/div[2]/div/div[3]/div[1]/div[1]/div/label')"
   ]
  },
  {
   "cell_type": "code",
   "execution_count": 371,
   "id": "cf3c3ddb",
   "metadata": {},
   "outputs": [],
   "source": [
    "noida_label.click()"
   ]
  },
  {
   "cell_type": "code",
   "execution_count": 404,
   "id": "00c83e23",
   "metadata": {},
   "outputs": [
    {
     "data": {
      "text/html": [
       "<div>\n",
       "<style scoped>\n",
       "    .dataframe tbody tr th:only-of-type {\n",
       "        vertical-align: middle;\n",
       "    }\n",
       "\n",
       "    .dataframe tbody tr th {\n",
       "        vertical-align: top;\n",
       "    }\n",
       "\n",
       "    .dataframe thead th {\n",
       "        text-align: right;\n",
       "    }\n",
       "</style>\n",
       "<table border=\"1\" class=\"dataframe\">\n",
       "  <thead>\n",
       "    <tr style=\"text-align: right;\">\n",
       "      <th></th>\n",
       "      <th>Company_Name</th>\n",
       "      <th>Rating</th>\n",
       "      <th>No_Of_Daysback_Posted</th>\n",
       "    </tr>\n",
       "  </thead>\n",
       "  <tbody>\n",
       "    <tr>\n",
       "      <th>1</th>\n",
       "      <td>EXL Services.com ( I ) Pvt. Ltd.</td>\n",
       "      <td>3.9</td>\n",
       "      <td>9d ago</td>\n",
       "    </tr>\n",
       "    <tr>\n",
       "      <th>2</th>\n",
       "      <td>GENPACT India Private Limited</td>\n",
       "      <td>4.0</td>\n",
       "      <td>22d ago</td>\n",
       "    </tr>\n",
       "    <tr>\n",
       "      <th>3</th>\n",
       "      <td>TECHNIP GLOBAL BUSINESS SERVICES PRIVATE LIMITED</td>\n",
       "      <td>3.9</td>\n",
       "      <td>8d ago</td>\n",
       "    </tr>\n",
       "    <tr>\n",
       "      <th>4</th>\n",
       "      <td>GENPACT India Private Limited</td>\n",
       "      <td>4.0</td>\n",
       "      <td>1mon ago</td>\n",
       "    </tr>\n",
       "    <tr>\n",
       "      <th>5</th>\n",
       "      <td>Bristlecone India Limited</td>\n",
       "      <td>3.8</td>\n",
       "      <td>17d ago</td>\n",
       "    </tr>\n",
       "    <tr>\n",
       "      <th>6</th>\n",
       "      <td>Zyoin</td>\n",
       "      <td>4.1</td>\n",
       "      <td>21d ago</td>\n",
       "    </tr>\n",
       "    <tr>\n",
       "      <th>7</th>\n",
       "      <td>Ashkom Media India Private Limited</td>\n",
       "      <td>3.7</td>\n",
       "      <td>8d ago</td>\n",
       "    </tr>\n",
       "    <tr>\n",
       "      <th>8</th>\n",
       "      <td>Newgen Software Technologies Ltd.</td>\n",
       "      <td>3.5</td>\n",
       "      <td>23d ago</td>\n",
       "    </tr>\n",
       "    <tr>\n",
       "      <th>9</th>\n",
       "      <td>JK Technosoft Ltd</td>\n",
       "      <td>3.7</td>\n",
       "      <td>1mon ago</td>\n",
       "    </tr>\n",
       "    <tr>\n",
       "      <th>10</th>\n",
       "      <td>Pitney Bowes India Pvt Ltd</td>\n",
       "      <td>4.2</td>\n",
       "      <td>1mon ago</td>\n",
       "    </tr>\n",
       "  </tbody>\n",
       "</table>\n",
       "</div>"
      ],
      "text/plain": [
       "                                        Company_Name Rating  \\\n",
       "1                   EXL Services.com ( I ) Pvt. Ltd.    3.9   \n",
       "2                      GENPACT India Private Limited    4.0   \n",
       "3   TECHNIP GLOBAL BUSINESS SERVICES PRIVATE LIMITED    3.9   \n",
       "4                      GENPACT India Private Limited    4.0   \n",
       "5                          Bristlecone India Limited    3.8   \n",
       "6                                              Zyoin    4.1   \n",
       "7                 Ashkom Media India Private Limited    3.7   \n",
       "8                  Newgen Software Technologies Ltd.    3.5   \n",
       "9                                  JK Technosoft Ltd    3.7   \n",
       "10                        Pitney Bowes India Pvt Ltd    4.2   \n",
       "\n",
       "   No_Of_Daysback_Posted  \n",
       "1                 9d ago  \n",
       "2                22d ago  \n",
       "3                 8d ago  \n",
       "4               1mon ago  \n",
       "5                17d ago  \n",
       "6                21d ago  \n",
       "7                 8d ago  \n",
       "8                23d ago  \n",
       "9               1mon ago  \n",
       "10              1mon ago  "
      ]
     },
     "execution_count": 404,
     "metadata": {},
     "output_type": "execute_result"
    }
   ],
   "source": [
    "company_name=[]\n",
    "No_of_days=[]\n",
    "rating=[]\n",
    "company_tag=driver9.find_elements_by_xpath(\"//p[@class='company body-medium']\")\n",
    "days_tag=driver9.find_elements_by_xpath(\"//div[@class='other-info']\")\n",
    "jobcard=driver9.find_elements_by_xpath(\"//div[@class='company-info']/div/a[1]\")\n",
    "for i in company_tag:\n",
    "    company_name.append(i.text)\n",
    "for i in days_tag:\n",
    "    No_of_days.append(i.find_element_by_tag_name('span').text)\n",
    "jobcard.pop(0)\n",
    "for i in jobcard:\n",
    "    rating.append(i.text)\n",
    "company_details=pd.DataFrame({'Company_Name':company_name,'Rating':rating,'No_Of_Daysback_Posted':No_of_days})\n",
    "company_details.index +=1\n",
    "company_details"
   ]
  },
  {
   "cell_type": "markdown",
   "id": "b1b6610f",
   "metadata": {},
   "source": [
    "# Question 10"
   ]
  },
  {
   "cell_type": "code",
   "execution_count": 73,
   "id": "1f3862eb",
   "metadata": {},
   "outputs": [],
   "source": [
    "driver10=webdriver.Chrome(r\"C:\\webdriver\\chromedriver.exe\")"
   ]
  },
  {
   "cell_type": "code",
   "execution_count": 74,
   "id": "679df2ae",
   "metadata": {},
   "outputs": [],
   "source": [
    "driver10.get('https://www.ambitionbox.com/')"
   ]
  },
  {
   "cell_type": "code",
   "execution_count": 75,
   "id": "8afe6f89",
   "metadata": {},
   "outputs": [],
   "source": [
    "salary_button=driver10.find_element_by_xpath('/html/body/div[1]/nav/nav/a[4]')"
   ]
  },
  {
   "cell_type": "code",
   "execution_count": 76,
   "id": "a7f1a600",
   "metadata": {},
   "outputs": [],
   "source": [
    "salary_button.click()"
   ]
  },
  {
   "cell_type": "code",
   "execution_count": 77,
   "id": "cc094ed5",
   "metadata": {},
   "outputs": [],
   "source": [
    "jobprof_field=driver10.find_element_by_xpath('/html/body/div/div/div/main/section[1]/div[2]/div[1]/span/input')"
   ]
  },
  {
   "cell_type": "code",
   "execution_count": 78,
   "id": "4bb1194e",
   "metadata": {},
   "outputs": [],
   "source": [
    "jobprof_field.send_keys('Data Scientist')"
   ]
  },
  {
   "cell_type": "code",
   "execution_count": 79,
   "id": "868b80bf",
   "metadata": {},
   "outputs": [],
   "source": [
    "suggestion_field=driver10.find_element_by_xpath(\"/html/body/div/div/div/main/section[1]/div[2]/div[1]/span/div/div/div[1]/div/div/p\")"
   ]
  },
  {
   "cell_type": "code",
   "execution_count": 81,
   "id": "9650da03",
   "metadata": {},
   "outputs": [],
   "source": [
    "suggestion_field.click()\n",
    "\n"
   ]
  },
  {
   "cell_type": "code",
   "execution_count": 115,
   "id": "db39a7d9",
   "metadata": {},
   "outputs": [
    {
     "data": {
      "text/html": [
       "<div>\n",
       "<style scoped>\n",
       "    .dataframe tbody tr th:only-of-type {\n",
       "        vertical-align: middle;\n",
       "    }\n",
       "\n",
       "    .dataframe tbody tr th {\n",
       "        vertical-align: top;\n",
       "    }\n",
       "\n",
       "    .dataframe thead th {\n",
       "        text-align: right;\n",
       "    }\n",
       "</style>\n",
       "<table border=\"1\" class=\"dataframe\">\n",
       "  <thead>\n",
       "    <tr style=\"text-align: right;\">\n",
       "      <th></th>\n",
       "      <th>Company_Name</th>\n",
       "      <th>Total_Sal_Records</th>\n",
       "      <th>Experience</th>\n",
       "      <th>Average_CTC</th>\n",
       "      <th>Min_CTC</th>\n",
       "      <th>Max_CTC</th>\n",
       "    </tr>\n",
       "  </thead>\n",
       "  <tbody>\n",
       "    <tr>\n",
       "      <th>1</th>\n",
       "      <td>Walmart</td>\n",
       "      <td>based on 11 salaries</td>\n",
       "      <td>3 yrs</td>\n",
       "      <td>₹ 29.7L</td>\n",
       "      <td>₹ 25.0L</td>\n",
       "      <td>₹ 35.0L</td>\n",
       "    </tr>\n",
       "    <tr>\n",
       "      <th>2</th>\n",
       "      <td>Ab Inbev</td>\n",
       "      <td>based on 32 salaries</td>\n",
       "      <td>3-4 yrs</td>\n",
       "      <td>₹ 20.5L</td>\n",
       "      <td>₹ 15.0L</td>\n",
       "      <td>₹ 25.5L</td>\n",
       "    </tr>\n",
       "    <tr>\n",
       "      <th>3</th>\n",
       "      <td>Reliance Jio</td>\n",
       "      <td>based on 10 salaries</td>\n",
       "      <td>4 yrs</td>\n",
       "      <td>₹ 18.9L</td>\n",
       "      <td>₹ 5.6L</td>\n",
       "      <td>₹ 26.2L</td>\n",
       "    </tr>\n",
       "    <tr>\n",
       "      <th>4</th>\n",
       "      <td>ZS</td>\n",
       "      <td>based on 15 salaries</td>\n",
       "      <td>2 yrs</td>\n",
       "      <td>₹ 16.7L</td>\n",
       "      <td>₹ 11.0L</td>\n",
       "      <td>₹ 22.0L</td>\n",
       "    </tr>\n",
       "    <tr>\n",
       "      <th>5</th>\n",
       "      <td>Optum</td>\n",
       "      <td>based on 30 salaries</td>\n",
       "      <td>3-4 yrs</td>\n",
       "      <td>₹ 15.9L</td>\n",
       "      <td>₹ 11.0L</td>\n",
       "      <td>₹ 22.6L</td>\n",
       "    </tr>\n",
       "    <tr>\n",
       "      <th>6</th>\n",
       "      <td>Fractal Analytics</td>\n",
       "      <td>based on 82 salaries</td>\n",
       "      <td>2-4 yrs</td>\n",
       "      <td>₹ 15.4L</td>\n",
       "      <td>₹ 9.7L</td>\n",
       "      <td>₹ 23.0L</td>\n",
       "    </tr>\n",
       "    <tr>\n",
       "      <th>7</th>\n",
       "      <td>Tiger Analytics</td>\n",
       "      <td>based on 47 salaries</td>\n",
       "      <td>2-4 yrs</td>\n",
       "      <td>₹ 14.8L</td>\n",
       "      <td>₹ 9.0L</td>\n",
       "      <td>₹ 20.0L</td>\n",
       "    </tr>\n",
       "    <tr>\n",
       "      <th>8</th>\n",
       "      <td>UnitedHealth</td>\n",
       "      <td>based on 55 salaries</td>\n",
       "      <td>2-4 yrs</td>\n",
       "      <td>₹ 13.9L</td>\n",
       "      <td>₹ 8.3L</td>\n",
       "      <td>₹ 20.5L</td>\n",
       "    </tr>\n",
       "    <tr>\n",
       "      <th>9</th>\n",
       "      <td>Verizon</td>\n",
       "      <td>based on 14 salaries</td>\n",
       "      <td>4 yrs</td>\n",
       "      <td>₹ 12.7L</td>\n",
       "      <td>₹ 10.0L</td>\n",
       "      <td>₹ 21.0L</td>\n",
       "    </tr>\n",
       "    <tr>\n",
       "      <th>10</th>\n",
       "      <td>Ganit Business Solutions</td>\n",
       "      <td>based on 13 salaries</td>\n",
       "      <td>4 yrs</td>\n",
       "      <td>₹ 12.4L</td>\n",
       "      <td>₹ 8.5L</td>\n",
       "      <td>₹ 15.0L</td>\n",
       "    </tr>\n",
       "  </tbody>\n",
       "</table>\n",
       "</div>"
      ],
      "text/plain": [
       "                Company_Name     Total_Sal_Records Experience Average_CTC  \\\n",
       "1                    Walmart  based on 11 salaries     3 yrs      ₹ 29.7L   \n",
       "2                   Ab Inbev  based on 32 salaries   3-4 yrs      ₹ 20.5L   \n",
       "3               Reliance Jio  based on 10 salaries     4 yrs      ₹ 18.9L   \n",
       "4                         ZS  based on 15 salaries     2 yrs      ₹ 16.7L   \n",
       "5                      Optum  based on 30 salaries   3-4 yrs      ₹ 15.9L   \n",
       "6          Fractal Analytics  based on 82 salaries   2-4 yrs      ₹ 15.4L   \n",
       "7            Tiger Analytics  based on 47 salaries   2-4 yrs      ₹ 14.8L   \n",
       "8               UnitedHealth  based on 55 salaries   2-4 yrs      ₹ 13.9L   \n",
       "9                    Verizon  based on 14 salaries     4 yrs      ₹ 12.7L   \n",
       "10  Ganit Business Solutions  based on 13 salaries     4 yrs      ₹ 12.4L   \n",
       "\n",
       "    Min_CTC  Max_CTC  \n",
       "1   ₹ 25.0L  ₹ 35.0L  \n",
       "2   ₹ 15.0L  ₹ 25.5L  \n",
       "3    ₹ 5.6L  ₹ 26.2L  \n",
       "4   ₹ 11.0L  ₹ 22.0L  \n",
       "5   ₹ 11.0L  ₹ 22.6L  \n",
       "6    ₹ 9.7L  ₹ 23.0L  \n",
       "7    ₹ 9.0L  ₹ 20.0L  \n",
       "8    ₹ 8.3L  ₹ 20.5L  \n",
       "9   ₹ 10.0L  ₹ 21.0L  \n",
       "10   ₹ 8.5L  ₹ 15.0L  "
      ]
     },
     "execution_count": 115,
     "metadata": {},
     "output_type": "execute_result"
    }
   ],
   "source": [
    "comapny_name=[]\n",
    "totalsalary_records=[]\n",
    "experience=[]\n",
    "avgCtc=[]\n",
    "minCTC=[]\n",
    "maxCtc=[]\n",
    "companyNameTag=driver10.find_elements_by_xpath(\"//div[@class='company-info']/div[1]/a[1]\")\n",
    "for i in companyNameTag:\n",
    "    comapny_name.append(i.text)\n",
    "totalsalRecTag=driver10.find_elements_by_xpath(\"//div[@class='company-info']/div[1]/span[1]\")\n",
    "for i in totalsalRecTag:\n",
    "    totalsalary_records.append(i.text)\n",
    "expTag=driver10.find_elements_by_xpath(\"//div[@class='company-info']/div[2]\")\n",
    "for i in expTag:\n",
    "    experience.append(i.text[19:].replace('exp',''))\n",
    "\n",
    "avgCtcTag=driver10.find_elements_by_xpath(\"//p[@class='averageCtc']\")\n",
    "for i in avgCtcTag:\n",
    "    avgCtc.append(i.text)\n",
    "minCtcTag=driver10.find_elements_by_xpath(\"//div[@class='salary-values']/div[1]\")\n",
    "for i in minCtcTag:\n",
    "    minCTC.append(i.text)\n",
    "maxCtcTag=driver10.find_elements_by_xpath(\"//div[@class='salary-values']/div[2]\")\n",
    "for i in maxCtcTag:\n",
    "    maxCtc.append(i.text)\n",
    "SalaryDetails=pd.DataFrame({'Company_Name':comapny_name,'Total_Sal_Records':totalsalary_records,'Experience':experience,'Average_CTC':avgCtc,'Min_CTC':minCTC,'Max_CTC':maxCtc})\n",
    "SalaryDetails.index +=1\n",
    "SalaryDetails"
   ]
  },
  {
   "cell_type": "code",
   "execution_count": null,
   "id": "ea22827e",
   "metadata": {},
   "outputs": [],
   "source": []
  }
 ],
 "metadata": {
  "kernelspec": {
   "display_name": "Python 3",
   "language": "python",
   "name": "python3"
  },
  "language_info": {
   "codemirror_mode": {
    "name": "ipython",
    "version": 3
   },
   "file_extension": ".py",
   "mimetype": "text/x-python",
   "name": "python",
   "nbconvert_exporter": "python",
   "pygments_lexer": "ipython3",
   "version": "3.8.8"
  }
 },
 "nbformat": 4,
 "nbformat_minor": 5
}
